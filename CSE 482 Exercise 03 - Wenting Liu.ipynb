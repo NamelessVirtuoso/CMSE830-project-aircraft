{
 "cells": [
  {
   "cell_type": "markdown",
   "id": "8c591887",
   "metadata": {},
   "source": [
    "### CSE 482 Exercise 03\n",
    "\n",
    "#### Name: Wenting Liu"
   ]
  },
  {
   "cell_type": "markdown",
   "id": "15f09059",
   "metadata": {},
   "source": [
    "***2. Write a python script using the mysql-connector library to performs the following steps:***\n",
    "\n",
    "*a. Open a connection to the CSE database server (mysql-user-cse.egr.msu.edu). Your username and database name is the same as your MSU NetID. If you’re using the database for the first time, the password is your student PID. Note: if you can’t access the database server from outside the campus, you may need to use the EGR VPN or do the exercise on campus. Please refer to our announcement on d2l (on Sep 19) for further information.*"
   ]
  },
  {
   "cell_type": "code",
   "execution_count": 1,
   "id": "72ab5b7d",
   "metadata": {},
   "outputs": [
    {
     "data": {
      "text/html": [
       "<div>\n",
       "<style scoped>\n",
       "    .dataframe tbody tr th:only-of-type {\n",
       "        vertical-align: middle;\n",
       "    }\n",
       "\n",
       "    .dataframe tbody tr th {\n",
       "        vertical-align: top;\n",
       "    }\n",
       "\n",
       "    .dataframe thead th {\n",
       "        text-align: right;\n",
       "    }\n",
       "</style>\n",
       "<table border=\"1\" class=\"dataframe\">\n",
       "  <thead>\n",
       "    <tr style=\"text-align: right;\">\n",
       "      <th></th>\n",
       "      <th>RevisionId</th>\n",
       "      <th>ArticleName</th>\n",
       "      <th>Timestamp</th>\n",
       "      <th>Editor</th>\n",
       "    </tr>\n",
       "  </thead>\n",
       "  <tbody>\n",
       "    <tr>\n",
       "      <th>0</th>\n",
       "      <td>9019643</td>\n",
       "      <td>Anarchism</td>\n",
       "      <td>2005-01-01</td>\n",
       "      <td>ip:24.136.172.37</td>\n",
       "    </tr>\n",
       "    <tr>\n",
       "      <th>1</th>\n",
       "      <td>9062018</td>\n",
       "      <td>Anarchism</td>\n",
       "      <td>2005-01-03</td>\n",
       "      <td>ip:137.53.22.23</td>\n",
       "    </tr>\n",
       "    <tr>\n",
       "      <th>2</th>\n",
       "      <td>9085524</td>\n",
       "      <td>Anarchism</td>\n",
       "      <td>2005-01-03</td>\n",
       "      <td>ip:24.42.90.254</td>\n",
       "    </tr>\n",
       "    <tr>\n",
       "      <th>3</th>\n",
       "      <td>9140836</td>\n",
       "      <td>Anarchism</td>\n",
       "      <td>2005-01-06</td>\n",
       "      <td>ip:69.61.184.201</td>\n",
       "    </tr>\n",
       "  </tbody>\n",
       "</table>\n",
       "</div>"
      ],
      "text/plain": [
       "   RevisionId ArticleName   Timestamp            Editor\n",
       "0     9019643   Anarchism  2005-01-01  ip:24.136.172.37\n",
       "1     9062018   Anarchism  2005-01-03   ip:137.53.22.23\n",
       "2     9085524   Anarchism  2005-01-03   ip:24.42.90.254\n",
       "3     9140836   Anarchism  2005-01-06  ip:69.61.184.201"
      ]
     },
     "execution_count": 1,
     "metadata": {},
     "output_type": "execute_result"
    }
   ],
   "source": [
    "import pandas as pd\n",
    "\n",
    "column_names = ['RevisionId', 'ArticleName', 'Timestamp', 'Editor']\n",
    "\n",
    "data = pd.read_table('wiki_edit.txt',sep=' ',header=None,names=column_names)\n",
    "\n",
    "data[:4]"
   ]
  },
  {
   "cell_type": "code",
   "execution_count": 2,
   "id": "c3a853b7",
   "metadata": {},
   "outputs": [],
   "source": [
    "uname = \"liuwent3\"\n",
    "pwd = \"A62206258\"\n",
    "hname = \"mysql-user-cse.egr.msu.edu\""
   ]
  },
  {
   "cell_type": "code",
   "execution_count": 3,
   "id": "b4c8c573",
   "metadata": {},
   "outputs": [],
   "source": [
    "import mysql.connector\n",
    "from mysql.connector import errorcode\n",
    "\n",
    "try:\n",
    "    cnx = mysql.connector.connect(user=uname, password=pwd, host=hname, database=uname)\n",
    "    cursor = cnx.cursor()\n",
    "    query = \"DROP TABLE IF EXISTS Wiki_Edit\"\n",
    "    cursor.execute(query)\n",
    "\n",
    "    query = \"\"\"CREATE TABLE IF NOT EXISTS Wiki_Edit (RevId int PRIMARY KEY,\n",
    "                                ArticleName varchar(100),EditDate date,User varchar(50))\n",
    "            \"\"\"\n",
    "    cursor.execute(query)\n",
    "    cursor.close()\n",
    "    cnx.commit()\n",
    "    cnx.close()\n",
    "    \n",
    "except:\n",
    "    print(mysql.connector.Error)"
   ]
  },
  {
   "cell_type": "code",
   "execution_count": 4,
   "id": "d4db3e58",
   "metadata": {},
   "outputs": [],
   "source": [
    "def byUnicode(char):\n",
    "    if ord(char) < 48 or ord(char) > 127: return ''\n",
    "    else: return char\n",
    "\n",
    "try:\n",
    "    cnx = mysql.connector.connect(user=uname, password=pwd, host=hname, database=uname)\n",
    "    cursor = cnx.cursor()\n",
    "    \n",
    "    for index, row in data.iterrows():\n",
    "        rid = row['RevisionId']\n",
    "        Article = ''.join(list(filter(byUnicode, row['ArticleName'])))\n",
    "        EditDate = row['Timestamp']\n",
    "        User = row['Editor']\n",
    "        if index < 100:\n",
    "            query = \"INSERT INTO Wiki_Edit VALUES (\" + str(rid) + \",'\" \n",
    "            query += Article + \"','\" + EditDate + \"','\"+ User + \"')\"\"\"\n",
    "            cursor.execute(query)\n",
    "        \n",
    "    cnx.commit()\n",
    "    cursor.close()\n",
    "    cnx.close()\n",
    "    \n",
    "except:\n",
    "    print(mysql.connector.Error)"
   ]
  },
  {
   "cell_type": "code",
   "execution_count": 5,
   "id": "f1e679ac",
   "metadata": {},
   "outputs": [
    {
     "name": "stdout",
     "output_type": "stream",
     "text": [
      "9004293 Alchemy 2005-01-01 Jdforrester\n",
      "9005545 Alexander_the_Great 2005-01-01 ip:24.28.123.143\n",
      "9005806 Anime 2005-01-01 JoshG\n",
      "9015217 Alchemy 2005-01-01 Wereon\n",
      "9015731 Alchemy 2005-01-01 House_of_Shin\n",
      "9016874 Alchemy 2005-01-01 Xerxes314\n",
      "9017507 Aldous_Huxley 2005-01-01 ip:207.194.162.118\n",
      "9018840 Alchemy 2005-01-01 Urhixidur\n",
      "9019643 Anarchism 2005-01-01 ip:24.136.172.37\n",
      "9019692 Aruba 2005-01-01 ip:69.47.102.177\n",
      "9034032 Allah 2005-01-01 ip:208.210.74.2\n",
      "9034734 Abraham_Lincoln 2005-01-02 ip:24.85.3.38\n",
      "9038272 Albert_Einstein 2005-01-01 Fastfission\n",
      "9038508 Afghanistan 2005-01-01 Wilfried_Derksen\n",
      "9046623 Agriculture 2005-01-01 Egil\n",
      "9046723 Agriculture 2005-01-02 ip:24.235.150.64\n",
      "9062018 Anarchism 2005-01-03 ip:137.53.22.23\n",
      "9068001 Abortion 2005-01-03 ip:206.127.66.41\n",
      "9072606 Academy_Award 2005-01-02 ip:67.182.173.144\n",
      "9072963 Abortion 2005-01-03 Sdfisher\n",
      "9073683 Albert_Einstein 2005-01-02 Fvw\n",
      "9082287 Abraham_Lincoln 2005-01-03 Polynova\n",
      "9085524 Anarchism 2005-01-03 ip:24.42.90.254\n",
      "9085580 Abraham_Lincoln 2005-01-03 ip:128.143.193.134\n",
      "9090610 Abraham_Lincoln 2005-01-04 JimWae\n",
      "9090968 Abraham_Lincoln 2005-01-04 JimWae\n",
      "9091379 Anime 2005-01-02 JoshG\n",
      "9097269 Alexander_the_Great 2005-01-04 ip:68.166.166.154\n",
      "9118390 Anime 2005-01-05 ip:24.114.252.183\n",
      "9119495 Albert_Einstein 2005-01-04 Sundar\n",
      "9130519 Actor 2005-01-01 LiDaobing\n",
      "9132094 Alaska 2005-01-04 ip:69.154.179.15\n",
      "9134428 Abraham_Lincoln 2005-01-05 JimWae\n",
      "9140836 Anarchism 2005-01-06 ip:69.61.184.201\n",
      "9153170 Afghanistan 2005-01-06 ip:62.82.184.204\n",
      "9159042 Abortion 2005-01-03 BM\n",
      "9160986 A 2005-01-06 Fvw\n",
      "9165313 Abraham_Lincoln 2005-01-06 JimWae\n",
      "9167237 Abraham_Lincoln 2005-01-07 JimWae\n",
      "9169350 Articles_of_Confederation 2005-01-07 Mateo_SA\n",
      "9169828 Articles_of_Confederation 2005-01-07 JimWae\n",
      "9170567 Aquarius_constellation 2005-01-06 Moverton\n",
      "9176250 Agriculture 2005-01-02 Tsavage\n",
      "9179405 Afghanistan 2005-01-07 ip:68.163.73.88\n",
      "9184892 American_football 2005-01-07 ip:24.103.207.38\n",
      "9185432 Albert_Einstein 2005-01-07 Piotrus\n",
      "9185941 Albert_Einstein 2005-01-07 Fredrik\n",
      "9194806 Algeria 2005-01-05 ip:194.228.128.63\n",
      "9199523 Austria 2005-01-08 Cantus\n",
      "9201252 Aries_constellation 2005-01-07 Maximaximax\n",
      "9208696 Ayn_Rand 2005-01-08 ip:70.68.228.208\n",
      "9232211 Arabic_language 2005-01-09 Circeus\n",
      "9241211 Andorra 2005-01-09 JohnArmagh\n",
      "9243125 Achilles 2005-01-08 ip:24.3.52.22\n",
      "9249680 Algeria 2005-01-10 Gzornenplatz\n",
      "9261586 Abraham_Lincoln 2005-01-10 ip:64.5.154.156\n",
      "9261984 Argentina 2005-01-10 ip:66.109.70.177\n",
      "9266037 Albert_Einstein 2005-01-10 Steven_Luo\n",
      "9268436 Albert_Einstein 2005-01-10 JRM\n",
      "9271186 Afghanistan 2005-01-10 ip:69.17.35.72\n",
      "9287944 Austria 2005-01-11 ip:129.143.4.65\n",
      "9288161 Abraham_Lincoln 2005-01-11 ip:207.72.66.5\n",
      "9288252 Abraham_Lincoln 2005-01-11 ip:207.72.66.5\n",
      "9291610 Alexander_the_Great 2005-01-11 ip:81.214.7.136\n",
      "9298154 Anime 2005-01-11 ip:169.139.185.1\n",
      "9301374 Algeria 2005-01-11 Gznorneplatz\n",
      "9314361 Alexander_the_Great 2005-01-12 Josquius\n",
      "9316043 ASCII 2005-01-01 R.123\n",
      "9320708 Asia 2005-01-11 Mormegil\n",
      "9322799 Abortion 2005-01-11 Kaldari\n",
      "9327071 Arabic_language 2005-01-12 SimonP\n",
      "9339391 Alaska 2005-01-13 ip:\n",
      "9344330 Altruism 2005-01-13 Paul_Stansifer\n",
      "9351053 Alberta 2005-01-09 ip:202.89.189.53\n",
      "9359796 Aikido 2005-01-13 Gwalla\n",
      "9359900 Alphabet 2005-01-11 Euniana\n",
      "9360545 Alphabet 2005-01-14 ip:145.97.223.187\n",
      "9360677 Abortion 2005-01-14 MamaGeek\n",
      "9365136 Altruism 2005-01-14 AdamRetchless\n",
      "9365499 Altruism 2005-01-14 RJII\n",
      "9365829 Aldous_Huxley 2005-01-13 ip:207.194.162.126\n",
      "9366392 Altruism 2005-01-14 RJII\n",
      "9368007 American_football 2005-01-14 Rhobite\n",
      "9368253 American_football 2005-01-14 ip:24.103.207.38\n",
      "9375616 Anime 2005-01-12 Matteh\n",
      "9378669 Articles_of_Confederation 2005-01-07 Mateo_SA\n",
      "9387247 Arthur_Koestler 2005-01-15 ip:146.176.2.17\n",
      "9390272 Anatomy 2005-01-15 ip:80.168.225.12\n",
      "9393691 American_football 2005-01-15 Rhobite\n",
      "9407403 Albania 2005-01-15 SpookyMulder\n",
      "9413900 Antarctica 2005-01-10 ip:200.125.38.73\n",
      "9423061 Ankara 2005-01-15 Mu5ti\n",
      "9442531 Alexander_the_Great 2005-01-15 SimonP\n",
      "9447711 Articles_of_Confederation 2005-01-15 Hello5959us\n",
      "9457128 Aldous_Huxley 2005-01-14 Pcpcpc\n",
      "9503610 ASCII 2005-01-13 ip:151.203.96.36\n",
      "9508248 Arthur_Koestler 2005-01-15 ip:146.176.2.17\n",
      "9513283 American_Revolutionary_War 2005-01-15 Edward\n",
      "9540082 Astronaut 2005-01-11 Sheridan\n",
      "10885584 Arithmetic_mean 2005-01-15 Jleedev\n"
     ]
    }
   ],
   "source": [
    "try:\n",
    "    cnx = mysql.connector.connect(user=uname, password=pwd, host=hname, database=uname)\n",
    "    cursor = cnx.cursor()\n",
    "    query = \"SELECT * FROM Wiki_Edit\"\n",
    "    cursor.execute(query)\n",
    "    \n",
    "    for (rid, article, edate, user) in cursor:\n",
    "        print(rid, article, edate, user)\n",
    "\n",
    "    cursor.close()\n",
    "    cnx.close()\n",
    "    \n",
    "except:\n",
    "    print(mysql.connector.Error)"
   ]
  },
  {
   "cell_type": "markdown",
   "id": "d1f8c13d",
   "metadata": {},
   "source": [
    "*b. Create a table named Wiki_Edit, which contains the following schema:*\n",
    "\n",
    "    RevisionID: int Primary Key\n",
    "    \n",
    "    ArticleName: varchar(100)\n",
    "    \n",
    "    EditDate: date\n",
    "    \n",
    "    UserName: varchar(50)"
   ]
  },
  {
   "cell_type": "code",
   "execution_count": 16,
   "id": "7674704b",
   "metadata": {},
   "outputs": [],
   "source": [
    "import mysql.connector\n",
    "\n",
    "mydb = mysql.connector.connect(\n",
    "  host=hname,\n",
    "  user=uname,\n",
    "  password=pwd,\n",
    "  #database=\"mydatabase\"\n",
    ")\n",
    "\n",
    "mycursor = mydb.cursor()\n",
    "\n",
    "mycursor.execute(\"CREATE TABLE Wiki_Edit (RevisionID INT, ArticleName VARCHAR(100), EditDate DATE, UserName VARCHAR(50), PRIMARY KWY(RevisionID))\")\n",
    "\n",
    "mydb.close()\n"
   ]
  },
  {
   "cell_type": "markdown",
   "id": "4676c736",
   "metadata": {},
   "source": [
    "*c. Read the file wiki_edit.txt and parse each line to identify the individual fields. For this exercise, do not use the read_table and DataFrame approach shown in lecture 4. Instead, you should read the file directly, parse each line, and store the fields from each line into the database. You should refer to the example given in slide #16 in lecture 2 on how to read\n",
    "from the data file directly and split each line into the individual fields.*"
   ]
  },
  {
   "cell_type": "code",
   "execution_count": null,
   "id": "fc53f567",
   "metadata": {},
   "outputs": [],
   "source": [
    "import mysql.connector\n",
    "\n",
    "mydb = mysql.connector.connect(\n",
    "  host=hname,\n",
    "  user=uname,\n",
    "  password=pwd,\n",
    "  #database=\"mydatabase\"\n",
    ")\n",
    "\n",
    "mycursor = mydb.cursor()\n",
    "\n",
    "file = open('wiki_edit.txt', 'r')\n",
    "file_content = file.read()\n",
    "file.close()\n",
    "\n",
    "query = \"INSERT INTO table VALUES (%s)\"\n",
    "\n",
    "mycursor.execute(query, (file_content,))\n",
    "\n",
    "my_data = []\n",
    "for line in mycursor:\n",
    "    my_data.append(line.strip().split(','))\n",
    "\n",
    "mydb.commit()\n",
    "mydb.close()"
   ]
  },
  {
   "cell_type": "markdown",
   "id": "be9001dd",
   "metadata": {},
   "source": [
    "*d. Query the database to find the Article name with largest number of edits.*"
   ]
  },
  {
   "cell_type": "code",
   "execution_count": 1,
   "id": "c7d1dc78",
   "metadata": {},
   "outputs": [
    {
     "ename": "NameError",
     "evalue": "name 'hname' is not defined",
     "output_type": "error",
     "traceback": [
      "\u001b[0;31m---------------------------------------------------------------------------\u001b[0m",
      "\u001b[0;31mNameError\u001b[0m                                 Traceback (most recent call last)",
      "Cell \u001b[0;32mIn [1], line 4\u001b[0m\n\u001b[1;32m      1\u001b[0m \u001b[39mimport\u001b[39;00m \u001b[39mmysql\u001b[39;00m\u001b[39m.\u001b[39;00m\u001b[39mconnector\u001b[39;00m\n\u001b[1;32m      3\u001b[0m mydb \u001b[39m=\u001b[39m mysql\u001b[39m.\u001b[39mconnector\u001b[39m.\u001b[39mconnect(\n\u001b[0;32m----> 4\u001b[0m   host\u001b[39m=\u001b[39mhname,\n\u001b[1;32m      5\u001b[0m   user\u001b[39m=\u001b[39muname,\n\u001b[1;32m      6\u001b[0m   password\u001b[39m=\u001b[39mpwd,\n\u001b[1;32m      7\u001b[0m   \u001b[39m#database=\"mydatabase\"\u001b[39;00m\n\u001b[1;32m      8\u001b[0m )\n\u001b[1;32m     10\u001b[0m mycursor \u001b[39m=\u001b[39m mydb\u001b[39m.\u001b[39mcursor()\n\u001b[1;32m     12\u001b[0m sql \u001b[39m=\u001b[39m \u001b[39m\"\u001b[39m\u001b[39mSELECT Editor, Count(*) FROM ArticleName, GROUP BY Editor, GROUP BY Count(*) DESB, LIMIT 1\u001b[39m\u001b[39m\"\u001b[39m\n",
      "\u001b[0;31mNameError\u001b[0m: name 'hname' is not defined"
     ]
    }
   ],
   "source": [
    "import mysql.connector\n",
    "\n",
    "mydb = mysql.connector.connect(\n",
    "  host=hname,\n",
    "  user=uname,\n",
    "  password=pwd,\n",
    "  #database=\"mydatabase\"\n",
    ")\n",
    "\n",
    "mycursor = mydb.cursor()\n",
    "\n",
    "sql = \"SELECT Editor, Count(*) FROM ArticleName, GROUP BY Editor, GROUP BY Count(*) DESB, LIMIT 1\"\n",
    "\n",
    "mycursor.execute(sql)\n",
    "\n",
    "myresult = mycursor.fetchall()\n",
    "\n",
    "for x in myresult:\n",
    "    print(x)"
   ]
  },
  {
   "cell_type": "markdown",
   "id": "83706440",
   "metadata": {},
   "source": [
    "***3. Install MongoDB to your machine.***\n",
    "\n",
    "*b. Using pymongo, write an Jupyter notebook script that will store the entries in the wiki_edit.txt file to a collection named wiki in MongoDB. To store the data, you need to convert each line into a dictionary object. The keys to the dictionary correspond to RevisionID, ArticleName, EditDate, and UserName and the values correspond to the individual entries in each line of the file:*\n",
    "\n",
    "    columns = line.strip().split(‘ ‘)\n",
    "    \n",
    "    record = { ‘RevisionID’: columns[0], …., ‘UserName’: columns[3]}\n",
    "    \n",
    "    db.wiki.insert_one(record)"
   ]
  },
  {
   "cell_type": "code",
   "execution_count": 62,
   "id": "2d7504d3",
   "metadata": {},
   "outputs": [
    {
     "data": {
      "text/plain": [
       "<pymongo.results.InsertManyResult at 0x19488252550>"
      ]
     },
     "execution_count": 62,
     "metadata": {},
     "output_type": "execute_result"
    }
   ],
   "source": [
    "import pymongo\n",
    "\n",
    "myclient = pymongo.MongoClient(\"mongodb://localhost:27017/\")\n",
    "mydb = myclient[\"mydatabase\"]\n",
    "mycol = mydb[\"wiki\"]\n",
    "\n",
    "mongo_docs = []\n",
    "for ind in data.index:\n",
    "    record = { \"RevisionID\": str(data[\"RevisionId\"][ind]), \n",
    "               \"ArticleName\": data[\"ArticleName\"][ind], \n",
    "               \"EditDate\": data[\"Timestamp\"][ind],\n",
    "               \"UserName\": data[\"Editor\"][ind]}\n",
    "    mongo_docs += [record]\n",
    "\n",
    "mycol.insert_many(mongo_docs)"
   ]
  },
  {
   "cell_type": "markdown",
   "id": "ed9e297c",
   "metadata": {},
   "source": [
    "*c. Write a query to find the date and username of editors who edited the “Anarchism” article:*\n",
    "\n",
    "    revisions = db.wiki\n",
    "    \n",
    "    for line in revisions.find({\"ArticleName\": \"Anarchism\"}):\n",
    "    \n",
    "    print line[\"EditDate\"], line[\"UserName\"]"
   ]
  },
  {
   "cell_type": "code",
   "execution_count": 64,
   "id": "643d98c5",
   "metadata": {},
   "outputs": [
    {
     "name": "stdout",
     "output_type": "stream",
     "text": [
      "2005-01-01 ip:24.136.172.37\n",
      "2005-01-01 ip:24.136.172.37\n",
      "2005-01-03 ip:137.53.22.23\n",
      "2005-01-03 ip:24.42.90.254\n",
      "2005-01-06 ip:69.61.184.201\n"
     ]
    }
   ],
   "source": [
    "import pymongo\n",
    "\n",
    "myclient = pymongo.MongoClient(\"mongodb://localhost:27017/\")\n",
    "mydb = myclient[\"mydatabase\"]\n",
    "mycol = mydb[\"wiki\"]\n",
    "\n",
    "revisions = mycol\n",
    "\n",
    "for line in revisions.find({\"ArticleName\": \"Anarchism\"}):\n",
    "    print(line[\"EditDate\"], line[\"UserName\"])"
   ]
  },
  {
   "cell_type": "code",
   "execution_count": null,
   "id": "3a4d3322",
   "metadata": {},
   "outputs": [],
   "source": []
  }
 ],
 "metadata": {
  "kernelspec": {
   "display_name": "Python 3.9.6 64-bit",
   "language": "python",
   "name": "python3"
  },
  "language_info": {
   "codemirror_mode": {
    "name": "ipython",
    "version": 3
   },
   "file_extension": ".py",
   "mimetype": "text/x-python",
   "name": "python",
   "nbconvert_exporter": "python",
   "pygments_lexer": "ipython3",
   "version": "3.9.6"
  },
  "vscode": {
   "interpreter": {
    "hash": "31f2aee4e71d21fbe5cf8b01ff0e069b9275f58929596ceb00d14d90e3e16cd6"
   }
  }
 },
 "nbformat": 4,
 "nbformat_minor": 5
}
