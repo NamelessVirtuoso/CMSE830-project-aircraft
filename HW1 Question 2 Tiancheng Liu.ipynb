{
 "cells": [
  {
   "cell_type": "markdown",
   "metadata": {},
   "source": [
    "**Question 2**"
   ]
  },
  {
   "cell_type": "markdown",
   "metadata": {},
   "source": [
    "**a)**"
   ]
  },
  {
   "cell_type": "code",
   "execution_count": 1,
   "metadata": {},
   "outputs": [
    {
     "data": {
      "text/plain": [
       "numpy.int64"
      ]
     },
     "execution_count": 1,
     "metadata": {},
     "output_type": "execute_result"
    }
   ],
   "source": [
    "import pymongo\n",
    "import pandas as pd \n",
    "\n",
    "bestbuy = pd.read_csv(\"bestbuy.csv\")\n",
    "type(bestbuy.sku[1])"
   ]
  },
  {
   "cell_type": "code",
   "execution_count": 3,
   "metadata": {},
   "outputs": [
    {
     "data": {
      "text/plain": [
       "<pymongo.results.InsertManyResult at 0x14c4e3220>"
      ]
     },
     "execution_count": 3,
     "metadata": {},
     "output_type": "execute_result"
    }
   ],
   "source": [
    "\n",
    "clientname = pymongo.MongoClient(\"mongodb://localhost:27017\")\n",
    "dbdic = clientname[\"localdatabase\"]\n",
    "dbdic\n",
    "\n",
    "new_file = dbdic['bestbuy']\n",
    "\n",
    "\n",
    "output = []\n",
    "for i in bestbuy.index:\n",
    "    new_row = {\"user\": bestbuy[\"user\"][i], \n",
    "               \"sku\": str(bestbuy[\"sku\"][i]), \n",
    "               \"category\": bestbuy[\"category\"][i],\n",
    "               \"query\": bestbuy[\"query\"][i],\n",
    "               \"click_time\": bestbuy[\"click_time\"][i],\n",
    "               \"query_time\": bestbuy[\"query_time\"][i]\n",
    "               }\n",
    "    output += [new_row] \n",
    "new_file.insert_many(output)\n",
    "\n"
   ]
  },
  {
   "cell_type": "markdown",
   "metadata": {},
   "source": [
    "**b)**"
   ]
  },
  {
   "cell_type": "code",
   "execution_count": 4,
   "metadata": {},
   "outputs": [
    {
     "data": {
      "text/plain": [
       "15210"
      ]
     },
     "execution_count": 4,
     "metadata": {},
     "output_type": "execute_result"
    }
   ],
   "source": [
    "dbdic.bestbuy.count_documents({})"
   ]
  },
  {
   "cell_type": "markdown",
   "metadata": {},
   "source": [
    "**c)**"
   ]
  },
  {
   "cell_type": "code",
   "execution_count": 48,
   "metadata": {},
   "outputs": [
    {
     "name": "stdout",
     "output_type": "stream",
     "text": [
      "[{'_id': {'sku': '2842056'}, 'count': 1227}, {'_id': {'sku': '2842092'}, 'count': 673}, {'_id': {'sku': '1945531'}, 'count': 654}, {'_id': {'sku': '9755322'}, 'count': 634}]\n"
     ]
    }
   ],
   "source": [
    "from collections import Counter\n",
    "\n",
    "results = dbdic.bestbuy.aggregate([\n",
    "  {\n",
    "    \"$group\": {\n",
    "        \"_id\": {\n",
    "            \"sku\": \"$sku\"\n",
    "            },\n",
    "            \"count\": {\n",
    "                \"$sum\": 1\n",
    "            }\n",
    "        }\n",
    "    },\n",
    "  {\n",
    "    \"$sort\": {\n",
    "      \"count\": -1\n",
    "    }\n",
    "  }\n",
    "])\n",
    "\n",
    "\n",
    "print(list(results)[0:4])\n",
    "\n"
   ]
  },
  {
   "cell_type": "markdown",
   "metadata": {},
   "source": []
  }
 ],
 "metadata": {
  "kernelspec": {
   "display_name": "Python 3.9.6 64-bit",
   "language": "python",
   "name": "python3"
  },
  "language_info": {
   "codemirror_mode": {
    "name": "ipython",
    "version": 3
   },
   "file_extension": ".py",
   "mimetype": "text/x-python",
   "name": "python",
   "nbconvert_exporter": "python",
   "pygments_lexer": "ipython3",
   "version": "3.9.6"
  },
  "orig_nbformat": 4,
  "vscode": {
   "interpreter": {
    "hash": "31f2aee4e71d21fbe5cf8b01ff0e069b9275f58929596ceb00d14d90e3e16cd6"
   }
  }
 },
 "nbformat": 4,
 "nbformat_minor": 2
}
