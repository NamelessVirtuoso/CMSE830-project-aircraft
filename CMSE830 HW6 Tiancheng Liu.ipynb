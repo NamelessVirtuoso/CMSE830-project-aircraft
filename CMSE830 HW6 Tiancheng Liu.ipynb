{
  "cells": [
    {
      "cell_type": "markdown",
      "metadata": {
        "id": "MImc3IGNx-vh"
      },
      "source": [
        "____\n",
        "# HW: Linear Regression\n",
        "____"
      ]
    },
    {
      "cell_type": "markdown",
      "metadata": {
        "id": "LHPjoRNQySfy"
      },
      "source": [
        "____\n",
        "____\n",
        "![loss](https://miro.medium.com/max/574/1*mOjTP97xJacJLEAQx_L9eA.png)\n",
        "____\n",
        "## Problem #1 (10pts)\n",
        "\n",
        "Derive the basic equations given in class for linear regression (LR) in 1D. Show all of your work. Open a markdown cell and use [$\\LaTeX$](https://ashki23.github.io/markdown-latex.html) for the equations. \n",
        "\n",
        "That is, use the MSE:\n",
        "$${\\cal L}(m,b) = \\frac{1}{2}\\sum_d \\left(y_d - mx_d - b \\right)^2,$$\n",
        "and the minimization condition\n",
        "$$\\frac{\\partial {\\cal L}}{\\partial m} = 0,$$\n",
        "$$\\frac{\\partial {\\cal L}}{\\partial b} = 0.$$\n",
        "Solve for $m$ and $b$ and write your answer in terms of statistical quantities such as the variances, covariances and/or means. Note that you have two equations in two unknowns; you will have to solve those simultaneous equations to get the expressions for $m$ and $b$. \n",
        "\n",
        "There are many different notations used for these types of problems. I suggest you establish a convention you like to use and stick with it. Here is what I propose we use for now:\n",
        "\n",
        "* expectation value (mean)\n",
        "$$\\mathrm{E}[X] \\equiv \\langle X\\rangle \\equiv \\mu,$$\n",
        "$$    = \\frac{1}{N}\\sum_{d=1}^N x_d,$$\n",
        "where $d$ is the sum over the $N$ data points. \n",
        "\n",
        "* variance\n",
        "$$\\mathrm{Var}[X] = \\mathrm{E}[(X - \\mathrm{E}[X])^2],$$\n",
        "$$    = \\mathrm{E}[X^2] - \\mathrm{E}[X]^2,$$\n",
        "$$    = \\langle X^2\\rangle - \\mu^2,$$\n",
        "$$    = \\mathrm{Cov}[X,X].$$\n",
        "\n",
        "* covariance\n",
        "$$\\mathrm{Cov}[X,Y] = \\mathrm{E}[(X - \\mathrm{E}[X])(Y - \\mathrm{E}[Y])],$$\n",
        "$$    = \\mathrm{E}[XY] - \\mathrm{E}[X]\\mathrm{E}[Y].$$\n",
        "\n",
        "I tried to follow definitions used in Wikipedia so that we can all use the same conventions. Note that I have indicated some options for the mean so that you get used to seeing different forms. \n",
        "\n",
        "I wanted to comment on these conventions. There are two choices here that are not universal: the factor of $\\frac{1}{2}$ in ${\\cal L}$ and the factor of $\\frac{1}{N}$ in the statistical quantities. Neither of these choices really matters as long as you:\n",
        "* are consistent everywhere in your math,\n",
        "* use other people's libraries correctly (e.g., `statsmodels`),\n",
        "* communicate to others what you did.\n",
        "\n",
        "These choices are commonly made because they make the math cleaner, as you will see. "
      ]
    },
    {
      "cell_type": "markdown",
      "metadata": {},
      "source": [
        "✅✅✅✅✅✅✅✅✅✅✅✅✅✅✅✅✅✅✅✅✅✅✅✅✅✅✅✅✅✅✅✅✅✅✅✅✅✅✅✅✅✅✅✅✅\n",
        "\n",
        "\n",
        "Answer:\n",
        "\n",
        "Because we have:\n",
        "\n",
        "$$y = mx + b$$\n",
        "$${\\cal L}(m,b) = \\frac{1}{2}\\sum_i \\left(y_i - mx_i - b \\right)^2$$\n",
        "\n",
        "✅First we do derivative on m.\n",
        "\n",
        "We have:\n",
        "\n",
        "$$\\frac{\\partial {\\cal L}}{\\partial m} =\\sum_i \\left(y_i - mx_i - b \\right)*(-x_i) $$\n",
        "\n",
        "Do the math:\n",
        "\n",
        "$$ =\\sum_i \\left(- x_iy_i + mx_i^2 + bx_i  \\right) $$\n",
        "$$ =  - \\sum_i x_iy_i + m\\sum_ix_i^2 + b \\sum_i x_i $$\n",
        "$$ = 0 $$\n",
        "$$  - E(XY) + m*E(X^2) + bE(X)= 0$$\n",
        "$$ m = \\frac {E(XY)-bE(X)}{E(X^2)} $$\n",
        "\n",
        "Or in another form we will use later:\n",
        "\n",
        "$$ m*E(X^2) = E(XY)-bE(X)$$\n",
        "\n",
        "\n",
        "\n",
        "\n",
        "✅Now we do derivative on b.\n",
        "\n",
        " we have,\n",
        "\n",
        "\n",
        "\n",
        "$$\\frac{\\partial {\\cal L}}{\\partial b} = \\sum_i \\left(- y_i + mx_i + b \\right) $$\n",
        "$$ =  - \\sum y + m\\sum x + bn = 0 $$\n",
        "$$  -E(Y)+m*E(X) + b=0$$\n",
        "$$ E(Y) = m*E(X) + b $$\n",
        "\n",
        "\n",
        "\n",
        "Which is :\n",
        "\n",
        "$$b  = E(Y) - m*E(X) $$\n",
        "\n",
        "Use m to express b:\n",
        "\n",
        "$$ m*E(X^2) = E(XY)-(E(Y)-m*E(X))*E(X)$$\n",
        "$$ m(E(X^2)-E(X)^2) = E(XY)-E(X)E(Y)$$\n",
        "\n",
        "\n",
        "\n",
        "\n",
        "\n",
        "Which is :\n",
        "\n",
        "$$ b = E(Y) - E(X)\\frac{\\mathrm{E}[XY] - \\mathrm{E}[X]\\mathrm{E}[Y]}{\\mathrm{E}[X^2] - \\mathrm{E}[X]^2}$$\n",
        "\n",
        "$$m  = \\frac{\\mathrm{E}[XY] - \\mathrm{E}[X]\\mathrm{E}[Y]}{\\mathrm{E}[X^2] - \\mathrm{E}[X]^2}$$\n",
        "\n",
        "✅In another format:\n",
        "\n",
        "$$m  = \\frac{Cov(X, Y)}{Var(X)}$$\n",
        "\n",
        "$$ b = E(Y) - E(X)\\frac{Cov(X, Y)}{Var(X)}$$"
      ]
    },
    {
      "cell_type": "markdown",
      "metadata": {
        "id": "CPlVWaJOy1R3"
      },
      "source": [
        "____\n",
        "____\n",
        "![cc](https://lh5.googleusercontent.com/7ZbEpmcYpEgMj9Qujn0r3_q7M7Oce5uBvTUpYO3p06mQ7L7arqNRZPYQ9Drjx7uMIcj8Nqyk40k7Y4eTXfQ_vmo97LQjFTM0zIaOrKuUUkYpqE5ks5MDxC4Zfelou2kkvnVuky-J)\n",
        "____\n",
        "## Problem #2 (5pts)\n",
        "\n",
        "Watch this video:\n",
        "\n",
        "\n"
      ]
    },
    {
      "cell_type": "code",
      "execution_count": null,
      "metadata": {
        "colab": {
          "base_uri": "https://localhost:8080/",
          "height": 337
        },
        "id": "NjzKhuI7grlS",
        "outputId": "45261bf5-bacb-4419-cea8-1e0811a8d3e6"
      },
      "outputs": [
        {
          "data": {
            "text/html": [
              "<iframe width=\"560\" height=\"315\" src=\"https://www.youtube.com/embed/qtaqvPAeEJY\" title=\"YouTube video player\" frameborder=\"0\" allow=\"accelerometer; autoplay; clipboard-write; encrypted-media; gyroscope; picture-in-picture\" allowfullscreen></iframe>"
            ],
            "text/plain": [
              "<IPython.core.display.HTML object>"
            ]
          },
          "execution_count": 3,
          "metadata": {},
          "output_type": "execute_result"
        }
      ],
      "source": [
        "from IPython.display import HTML\n",
        "HTML('<iframe width=\"560\" height=\"315\" src=\"https://www.youtube.com/embed/qtaqvPAeEJY\" title=\"YouTube video player\" frameborder=\"0\" allow=\"accelerometer; autoplay; clipboard-write; encrypted-media; gyroscope; picture-in-picture\" allowfullscreen></iframe>')"
      ]
    },
    {
      "cell_type": "markdown",
      "metadata": {
        "id": "IyIXATkgqmfX"
      },
      "source": [
        "In a markdown cell describe covariance and correlation, explain the difference and why we need two related quantities. That is, what does correlation do for us that covariance does not? "
      ]
    },
    {
      "cell_type": "markdown",
      "metadata": {},
      "source": [
        "✅\n",
        "\n",
        "1. Covariance shows the broad relationship between variables, for example one goes bigger another goes bigger too, then they are positively related. If one goes up and another goes down, then they are negatively related. Covariance has a range between zero to inf.\n",
        "2. Correlation shows the degree of relationship. If the absolute value of correlation is higher, then the two variables are closerly related, if the absolute value of correlation is smaller, then the two variables are less related. Correlation has a range from -1 to 1.\n",
        "3. Covariance only tell us if the variables are related, the number doesn't mean a lot because it is influenced by the sample and it can be really large. Correlation shows how strong the relationship is, and if they are positive, negative or not related."
      ]
    },
    {
      "cell_type": "markdown",
      "metadata": {
        "id": "l-bB5hA8Qeud"
      },
      "source": [
        "____\n",
        "____\n",
        "![Tufte](https://thedoublethink.com/wp-content/uploads/2016/09/lie_factor_example1_image.jpg)\n",
        "____\n",
        "## Problem #3 (5pts)\n",
        "\n",
        "In a markdown cell, describe three of Tufte's rules of good visualization. "
      ]
    },
    {
      "cell_type": "markdown",
      "metadata": {},
      "source": [
        "✅\n",
        "\n",
        "* Graphical Excellence. Plots should be well orgnized.\n",
        "* Visual Integrity. No misleading graphs, like set the base line so high to let two simular value look different.\n",
        "* Maximizing the Data-Ink Ratio. Use the least amount of graph to show the most information.\n",
        "* Aesthetic Elegance. Make beautiful plots. By beautiful, I think he means that we should make out plot prettier withou losing the above characteristics of our plot."
      ]
    },
    {
      "cell_type": "markdown",
      "metadata": {
        "id": "9eWYv9EHh0Ee"
      },
      "source": [
        "____\n",
        "____\n",
        "![sl](https://blog.streamlit.io/content/images/size/w600/2022/04/Live-Data-Science-Dashboard-GIF.gif)\n",
        "____\n",
        "## Problem #4 (30pts)\n",
        "\n",
        "You should be in good shape with your project! You have two more weeks to complete it: it is due before class Wed after our fall break (which only impacts Monday for us). You should have:\n",
        "* picked a dataset, \n",
        "* you know what is interesting about it,\n",
        "* you developed a story/narrative of the dataset,\n",
        "* you are now an expert on excellent visualization, \n",
        "* you know how to build a simple streamlit web app,\n",
        "* and you have mostly put all of these together. \n",
        "\n",
        "The final step is deploying the web app, which you will do this week. Previously, you watched some videos on how to do this, so you should be mostly ready. For this HW you could deploy your actual project -- _if you have it done!_ -- but more likely you will deploy a smaller, practice version of it.\n",
        "\n",
        "Just a reminder of the steps:\n",
        "* you need a practice `.py` file using `streamlit`,\n",
        "* you need to create three additional files:\n",
        "  1. `requirements.txt`\n",
        "  2. `Procfile`\n",
        "  3. `setup.sh`\n",
        "\n",
        "I followed [this video](https://www.youtube.com/watch?v=nJHrSvYxzjE) and was able to [make this](https://cmse830-test.herokuapp.com/). If you have any problems, post your questions in Slack. \n",
        "\n",
        "When you are done, paste the link here so that Vicente can test it. \n",
        "\n",
        "For the midterm project, you will do three things:\n",
        "* give a $\\sim 10$ presentation during class (on the Wed and Fri after fall break),\n",
        "* turn in your code to D2L,\n",
        "* provide the link to the operational web app. \n",
        "\n",
        "We will collect the links so that you can all see what the other students have done, and we will share them with other faculty. (If there is a reason your link cannot be shared, please let me know.) \n",
        "\n",
        "\n",
        "\n",
        "\n"
      ]
    },
    {
      "cell_type": "markdown",
      "metadata": {},
      "source": [
        "✅: The link\n",
        "\n",
        "[Old Link](https://cancerpracticeTL.herokuapp.com)\n",
        "\n",
        "[New Link](https://cancertesttl.herokuapp.com)"
      ]
    }
  ],
  "metadata": {
    "colab": {
      "collapsed_sections": [
        "LHPjoRNQySfy",
        "l-bB5hA8Qeud"
      ],
      "provenance": []
    },
    "kernelspec": {
      "display_name": "Python 3.9.6 64-bit",
      "language": "python",
      "name": "python3"
    },
    "language_info": {
      "codemirror_mode": {
        "name": "ipython",
        "version": 3
      },
      "file_extension": ".py",
      "mimetype": "text/x-python",
      "name": "python",
      "nbconvert_exporter": "python",
      "pygments_lexer": "ipython3",
      "version": "3.9.6"
    },
    "vscode": {
      "interpreter": {
        "hash": "31f2aee4e71d21fbe5cf8b01ff0e069b9275f58929596ceb00d14d90e3e16cd6"
      }
    }
  },
  "nbformat": 4,
  "nbformat_minor": 0
}
