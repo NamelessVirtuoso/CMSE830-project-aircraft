{
 "cells": [
  {
   "cell_type": "markdown",
   "metadata": {},
   "source": [
    "***CSE482 Exercise 2***"
   ]
  },
  {
   "cell_type": "markdown",
   "metadata": {},
   "source": [
    "*Question 1*"
   ]
  },
  {
   "cell_type": "markdown",
   "metadata": {},
   "source": [
    "✅Yes, they are in the same folder."
   ]
  },
  {
   "cell_type": "code",
   "execution_count": 1,
   "metadata": {},
   "outputs": [],
   "source": [
    "import pandas as pd\n",
    "data = pd.read_table('wiki_edit.txt',sep=' ',header=None,names=['RevisionId', 'ArticleName', 'Timestamp', 'Editor'])\n",
    "data.head()\n",
    "\n",
    "wiki = data"
   ]
  },
  {
   "cell_type": "markdown",
   "metadata": {},
   "source": [
    "*Question 2*"
   ]
  },
  {
   "cell_type": "markdown",
   "metadata": {},
   "source": [
    "a)"
   ]
  },
  {
   "cell_type": "markdown",
   "metadata": {},
   "source": [
    "✅Connected."
   ]
  },
  {
   "cell_type": "markdown",
   "metadata": {},
   "source": [
    "b)"
   ]
  },
  {
   "cell_type": "code",
   "execution_count": 2,
   "metadata": {},
   "outputs": [],
   "source": [
    "uname = \"liutia18\"\n",
    "pwd = \"Ilbltc123!\"\n",
    "hname = \"mysql-user-cse.egr.msu.edu\""
   ]
  },
  {
   "cell_type": "code",
   "execution_count": 3,
   "metadata": {},
   "outputs": [],
   "source": [
    "import mysql.connector\n"
   ]
  },
  {
   "cell_type": "code",
   "execution_count": 4,
   "metadata": {},
   "outputs": [],
   "source": [
    "\n",
    "from mysql.connector import errorcode\n",
    "\n"
   ]
  },
  {
   "cell_type": "code",
   "execution_count": 5,
   "metadata": {},
   "outputs": [],
   "source": [
    "cnx = mysql.connector.connect(user=uname, password=pwd, host=hname, database=uname)\n",
    "cursor = cnx.cursor()\n",
    "query = \"DROP TABLE IF EXISTS Wiki_Edit\"\n",
    "cursor.execute(query)\n",
    "\n",
    "query = \"\"\"CREATE TABLE IF NOT EXISTS Wiki_Edit (RevisionID int PRIMARY KEY,\n",
    "                                ArticleName varchar(100),EditDate date,UserName varchar(50))\n",
    "            \"\"\"\n",
    "cursor.execute(query)\n",
    "cursor.close()\n",
    "cnx.commit()\n",
    "cnx.close()"
   ]
  },
  {
   "cell_type": "markdown",
   "metadata": {},
   "source": [
    "✅Here are pictures for the proof."
   ]
  },
  {
   "cell_type": "markdown",
   "metadata": {},
   "source": [
    "![tt](pr3.jpg)"
   ]
  },
  {
   "cell_type": "markdown",
   "metadata": {},
   "source": [
    "![tt](pr4.jpg) "
   ]
  },
  {
   "cell_type": "markdown",
   "metadata": {},
   "source": [
    "c)"
   ]
  },
  {
   "cell_type": "code",
   "execution_count": 6,
   "metadata": {},
   "outputs": [
    {
     "data": {
      "text/plain": [
       "[['9062018 Anarchism 2005-01-03 ip:137.53.22.23'],\n",
       " ['9085524 Anarchism 2005-01-03 ip:24.42.90.254'],\n",
       " ['9140836 Anarchism 2005-01-06 ip:69.61.184.201'],\n",
       " ['9160986 A 2005-01-06 Fvw']]"
      ]
     },
     "execution_count": 6,
     "metadata": {},
     "output_type": "execute_result"
    }
   ],
   "source": [
    "with open(\"wiki_edit.txt\", \"r\") as f:\n",
    "    column_names = f.readline().strip().split(\",\")\n",
    "    data_list = []\n",
    "    for line in f:\n",
    "        data_list.append(line.strip().split(\",\"))\n",
    "\n",
    "data_list[0:4]"
   ]
  },
  {
   "cell_type": "code",
   "execution_count": 7,
   "metadata": {},
   "outputs": [],
   "source": [
    "def byUnicode(char):\n",
    "    if ord(char) < 48 or ord(char) > 127: return ''\n",
    "    else: return char\n",
    "\n",
    "try:\n",
    "    cnx = mysql.connector.connect(user=uname, password=pwd, host=hname, database=uname)\n",
    "    cursor = cnx.cursor()\n",
    "    \n",
    "    for index, row in data.iterrows():\n",
    "        rid = row['RevisionId']\n",
    "        Article = ''.join(list(filter(byUnicode, row['ArticleName'])))\n",
    "        EditDate = row['Timestamp']\n",
    "        User = row['Editor']\n",
    "        if index < 100:\n",
    "            query = \"INSERT INTO Wiki_Edit VALUES (\" + str(rid) + \",'\" \n",
    "            query += Article + \"','\" + EditDate + \"','\"+ User + \"')\"\"\"\n",
    "            cursor.execute(query)\n",
    "        \n",
    "    cnx.commit()\n",
    "    cursor.close()\n",
    "    cnx.close()\n",
    "    \n",
    "except:\n",
    "    print(mysql.connector.Error)"
   ]
  },
  {
   "cell_type": "markdown",
   "metadata": {},
   "source": [
    "✅Answer: No error code has been printed out. The file has been filed."
   ]
  },
  {
   "cell_type": "markdown",
   "metadata": {},
   "source": [
    "d)"
   ]
  },
  {
   "cell_type": "code",
   "execution_count": 8,
   "metadata": {},
   "outputs": [
    {
     "name": "stdout",
     "output_type": "stream",
     "text": [
      "[(('Abraham_Lincoln',), 11)]\n"
     ]
    }
   ],
   "source": [
    "from collections import Counter\n",
    "cnx = mysql.connector.connect(user=uname, password=pwd, host=hname, database=uname)\n",
    "cursor = cnx.cursor()\n",
    "query = \"SELECT ArticleName FROM Wiki_Edit\"\n",
    "cursor.execute(query)\n",
    "\n",
    "c = Counter(cursor)\n",
    "print (c.most_common(1))\n",
    "\n",
    "\n",
    "cursor.close()\n",
    "cnx.close()\n",
    "\n",
    "    \n"
   ]
  },
  {
   "cell_type": "markdown",
   "metadata": {},
   "source": [
    "✅Answer: The most edited article is \"Abraham_Lincoln\", being edited 11 times."
   ]
  },
  {
   "cell_type": "markdown",
   "metadata": {},
   "source": [
    "**Question 3**"
   ]
  },
  {
   "cell_type": "markdown",
   "metadata": {},
   "source": [
    "a)"
   ]
  },
  {
   "cell_type": "markdown",
   "metadata": {},
   "source": [
    "✅Using mongo compass and it worked."
   ]
  },
  {
   "cell_type": "markdown",
   "metadata": {},
   "source": [
    "b)"
   ]
  },
  {
   "cell_type": "markdown",
   "metadata": {},
   "source": [
    "✅First call the package, then set some variables for next step."
   ]
  },
  {
   "cell_type": "code",
   "execution_count": 9,
   "metadata": {},
   "outputs": [
    {
     "data": {
      "text/plain": [
       "Database(MongoClient(host=['localhost:27017'], document_class=dict, tz_aware=False, connect=True), 'localdatabase')"
      ]
     },
     "execution_count": 9,
     "metadata": {},
     "output_type": "execute_result"
    }
   ],
   "source": [
    "import pymongo\n",
    "\n",
    "clientname = pymongo.MongoClient(\"mongodb://localhost:27017\")#local client\n",
    "dbdic = clientname[\"localdatabase\"]#automaticly create the name in mongodb if not exist\n",
    "dbdic #check what it is, for better understanding\n"
   ]
  },
  {
   "cell_type": "code",
   "execution_count": 10,
   "metadata": {},
   "outputs": [],
   "source": [
    "new_file = dbdic['wiki']\n"
   ]
  },
  {
   "cell_type": "code",
   "execution_count": null,
   "metadata": {},
   "outputs": [],
   "source": [
    "\n",
    "output = []\n",
    "for i in wiki.index:\n",
    "    new_row = { \"RevisionID\": str(wiki[\"RevisionId\"][i]), \n",
    "               \"ArticleName\": wiki[\"ArticleName\"][i], \n",
    "               \"EditDate\": wiki[\"Timestamp\"][i],\n",
    "               \"UserName\": wiki[\"Editor\"][i]}\n",
    "    output += [new_row]\n",
    "new_file.insert_many(output)\n"
   ]
  },
  {
   "cell_type": "code",
   "execution_count": 13,
   "metadata": {},
   "outputs": [
    {
     "data": {
      "text/plain": [
       "pymongo.collection.Collection"
      ]
     },
     "execution_count": 13,
     "metadata": {},
     "output_type": "execute_result"
    }
   ],
   "source": [
    "\n",
    "type(new_file)\n"
   ]
  },
  {
   "cell_type": "markdown",
   "metadata": {},
   "source": [
    "c)"
   ]
  },
  {
   "cell_type": "code",
   "execution_count": 14,
   "metadata": {},
   "outputs": [
    {
     "name": "stdout",
     "output_type": "stream",
     "text": [
      "2005-01-01 ip:24.136.172.37\n",
      "2005-01-03 ip:137.53.22.23\n",
      "2005-01-03 ip:24.42.90.254\n",
      "2005-01-06 ip:69.61.184.201\n"
     ]
    }
   ],
   "source": [
    "db_wiki = new_file\n",
    "\n",
    "for line in db_wiki.find({\"ArticleName\": \"Anarchism\"}):\n",
    "    print(line[\"EditDate\"], line[\"UserName\"])"
   ]
  },
  {
   "cell_type": "markdown",
   "metadata": {},
   "source": [
    "![tt](prove.png) "
   ]
  },
  {
   "cell_type": "markdown",
   "metadata": {},
   "source": [
    "![Mongodb compass local database](pr2.png) "
   ]
  },
  {
   "cell_type": "markdown",
   "metadata": {},
   "source": [
    "<img src='https://github.com/NamelessVirtuoso/images-or-else/blob/dd34c35971f5c689ec17677c70adbd152d3b87db/pr2.png'>"
   ]
  },
  {
   "cell_type": "markdown",
   "metadata": {},
   "source": [
    "![Image of Yaktocat](https://github.com/NamelessVirtuoso/images-or-else/blob/dd34c35971f5c689ec17677c70adbd152d3b87db/pr2.png）"
   ]
  }
 ],
 "metadata": {
  "kernelspec": {
   "display_name": "Python 3.9.6 64-bit",
   "language": "python",
   "name": "python3"
  },
  "language_info": {
   "codemirror_mode": {
    "name": "ipython",
    "version": 3
   },
   "file_extension": ".py",
   "mimetype": "text/x-python",
   "name": "python",
   "nbconvert_exporter": "python",
   "pygments_lexer": "ipython3",
   "version": "3.9.6"
  },
  "orig_nbformat": 4,
  "vscode": {
   "interpreter": {
    "hash": "31f2aee4e71d21fbe5cf8b01ff0e069b9275f58929596ceb00d14d90e3e16cd6"
   }
  }
 },
 "nbformat": 4,
 "nbformat_minor": 2
}
