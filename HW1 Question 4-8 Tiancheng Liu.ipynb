{
 "cells": [
  {
   "cell_type": "markdown",
   "metadata": {},
   "source": [
    "**Question 4**"
   ]
  },
  {
   "cell_type": "markdown",
   "metadata": {},
   "source": [
    "(a) Zipcode of a city (e.g., 48824 for East Lansing).\n"
   ]
  },
  {
   "cell_type": "markdown",
   "metadata": {},
   "source": [
    "✅Cannot add or devide, so zipcodes are nominal."
   ]
  },
  {
   "cell_type": "markdown",
   "metadata": {},
   "source": [
    "(b) Month of the year, whose value is in the range between 1 (January) to 12 (December).\n"
   ]
  },
  {
   "cell_type": "markdown",
   "metadata": {},
   "source": [
    "✅Monthes are categories, thus monthes are nominal."
   ]
  },
  {
   "cell_type": "markdown",
   "metadata": {},
   "source": [
    "(c) Speed of a fast-moving object in a medium, measured in terms of its Mach number (see https://en.wikipedia.org/wiki/Mach_number). For example, an object moving at Mach 1 has a speed equal to the speed of sound in the given medium.\n"
   ]
  },
  {
   "cell_type": "markdown",
   "metadata": {},
   "source": [
    "✅Speed can be added or devided, has a zero point, so speed is ratio."
   ]
  },
  {
   "cell_type": "markdown",
   "metadata": {},
   "source": [
    "(d) Number of daily visitors to a web site.\n"
   ]
  },
  {
   "cell_type": "markdown",
   "metadata": {},
   "source": [
    "✅Number of visitors can be added or devided, has zero point, so it is ratio."
   ]
  },
  {
   "cell_type": "markdown",
   "metadata": {},
   "source": [
    "(e) Homeland Security Advisory System ratings - code red/orange/etc.\n"
   ]
  },
  {
   "cell_type": "markdown",
   "metadata": {},
   "source": [
    "✅Ratings cannot be devided, can be compared and sorted, cannot be subtracted, so ratings are ordinal."
   ]
  },
  {
   "cell_type": "markdown",
   "metadata": {},
   "source": [
    "(f) URL of a Web page.\n"
   ]
  },
  {
   "cell_type": "markdown",
   "metadata": {},
   "source": [
    "✅URL cannot be added or devided, doesn't have rank, cannot be compared, so URLs are nominal."
   ]
  },
  {
   "cell_type": "markdown",
   "metadata": {},
   "source": [
    "(g) TheSaffir-Simpsonhurricanewindscale(seehttps://en.wikipedia. org/wiki/Saffir%E2%80%93Simpson_scale).\n"
   ]
  },
  {
   "cell_type": "markdown",
   "metadata": {},
   "source": [
    "✅The scale can be compared but cannot be subtracted, has order, so the scale is ordinal."
   ]
  },
  {
   "cell_type": "markdown",
   "metadata": {},
   "source": [
    "(h) The wealth of a nation, measured in terms of gross domestic product (GDP) per capita above the world’s average of $10,880. For example, the wealth for Norway is $91,616 since its GDP per capita is $102,496."
   ]
  },
  {
   "cell_type": "markdown",
   "metadata": {},
   "source": [
    "✅GDP can be subtracted, can be compared, thus GPD is ratio."
   ]
  },
  {
   "cell_type": "markdown",
   "metadata": {},
   "source": [
    "**Question 5**"
   ]
  },
  {
   "cell_type": "markdown",
   "metadata": {},
   "source": [
    "**a)**"
   ]
  },
  {
   "cell_type": "markdown",
   "metadata": {},
   "source": [
    "✅Answer:\n",
    "\n",
    "SELECT ReleaseYear FROM Movie WHERE Title = Jurassic Park"
   ]
  },
  {
   "cell_type": "markdown",
   "metadata": {},
   "source": [
    "**b)**"
   ]
  },
  {
   "cell_type": "markdown",
   "metadata": {},
   "source": [
    "✅Answer:\n",
    "\n",
    "SELECT FirstName, LastName FROM Person, Movie WHERE Movie(Title) = Jurassic Park"
   ]
  },
  {
   "cell_type": "markdown",
   "metadata": {},
   "source": [
    "**c)**"
   ]
  },
  {
   "cell_type": "markdown",
   "metadata": {},
   "source": [
    "✅Answer:\n",
    "\n",
    "SELECT Title FROM Movie WHERE Director = Steven Spielberg"
   ]
  },
  {
   "cell_type": "markdown",
   "metadata": {},
   "source": [
    "**d)**"
   ]
  },
  {
   "cell_type": "markdown",
   "metadata": {},
   "source": [
    "✅Answer:\n",
    "\n",
    "SELECT COUNT(*) FROM Person, Movie GROUP BY Person(ID)"
   ]
  },
  {
   "cell_type": "markdown",
   "metadata": {},
   "source": [
    "**Question 6**"
   ]
  },
  {
   "cell_type": "markdown",
   "metadata": {},
   "source": [
    "**a)**"
   ]
  },
  {
   "cell_type": "markdown",
   "metadata": {},
   "source": [
    "1. Select the movies that are released in 2007.\n",
    "2. One column, the movie title.\n",
    "3. Minimum is 0, Maximum is 150."
   ]
  },
  {
   "cell_type": "markdown",
   "metadata": {},
   "source": [
    "**b)**"
   ]
  },
  {
   "cell_type": "markdown",
   "metadata": {},
   "source": [
    "1. Select the director's name for \"Star Wars\".\n",
    "2. Two columns, the person's first name and last name.\n",
    "3. Minimum is 0, Maximum is 1."
   ]
  },
  {
   "cell_type": "markdown",
   "metadata": {},
   "source": [
    "**c)**"
   ]
  },
  {
   "cell_type": "markdown",
   "metadata": {},
   "source": [
    "1. Select the people who is both an actor and the director in a movie.\n",
    "2. Two columns, the person's First name and Last Name.\n",
    "3. Minmimum is 0, Maximum is 200."
   ]
  },
  {
   "cell_type": "markdown",
   "metadata": {},
   "source": [
    "**d)**"
   ]
  },
  {
   "cell_type": "markdown",
   "metadata": {},
   "source": [
    "1. Select unique people who was in multiple movies.\n",
    "2. Two columns, the person's First name and Last Name.\n",
    "3. Minimum is 0, Maximum is 200."
   ]
  },
  {
   "cell_type": "markdown",
   "metadata": {},
   "source": [
    "**Question 7**"
   ]
  },
  {
   "cell_type": "markdown",
   "metadata": {},
   "source": [
    "The easiest way to do this should be using an example."
   ]
  },
  {
   "cell_type": "markdown",
   "metadata": {},
   "source": [
    "For example, we have a list [1,4,9,13,14,15,16,17,26]"
   ]
  },
  {
   "cell_type": "code",
   "execution_count": 42,
   "metadata": {},
   "outputs": [
    {
     "name": "stdout",
     "output_type": "stream",
     "text": [
      "equal width (0.975, 9.333] 1\n",
      "equal width (0.975, 9.333] 4\n",
      "equal width (0.975, 9.333] 9\n",
      "equal width (9.333, 17.667] 13\n",
      "equal width (9.333, 17.667] 14\n",
      "equal width (9.333, 17.667] 15\n",
      "equal width (9.333, 17.667] 16\n",
      "equal width (9.333, 17.667] 17\n",
      "equal width (17.667, 26.0] 26\n",
      "equal frequency (0.999, 11.667] 1\n",
      "equal frequency (0.999, 11.667] 4\n",
      "equal frequency (0.999, 11.667] 9\n",
      "equal frequency (11.667, 15.333] 13\n",
      "equal frequency (11.667, 15.333] 14\n",
      "equal frequency (11.667, 15.333] 15\n",
      "equal frequency (15.333, 26.0] 16\n",
      "equal frequency (15.333, 26.0] 17\n",
      "equal frequency (15.333, 26.0] 26\n"
     ]
    }
   ],
   "source": [
    "import pandas as pd \n",
    "import numpy as np\n",
    "lis = [1,4,9,13,14,15,16,17,26]\n",
    "wid = pd.cut(lis,3)\n",
    "freq = pd.qcut(lis,3)\n",
    "k = 0\n",
    "l = 0\n",
    "for i in wid:\n",
    "    print(\"equal width\",i,lis[k])\n",
    "    k+=1\n",
    "for j in freq:\n",
    "    print(\"equal frequency\",j,lis[l])\n",
    "    l+=1\n"
   ]
  },
  {
   "cell_type": "markdown",
   "metadata": {},
   "source": [
    "**a)**"
   ]
  },
  {
   "cell_type": "code",
   "execution_count": 46,
   "metadata": {},
   "outputs": [
    {
     "name": "stdout",
     "output_type": "stream",
     "text": [
      "equal width (-11.803, -3.444] value 1\n",
      "equal width (-11.803, -3.444] value 4\n",
      "equal width (-11.803, -3.444] value 9\n",
      "equal width (-3.444, 4.889] value 13\n",
      "equal width (-3.444, 4.889] value 14\n",
      "equal width (-3.444, 4.889] value 15\n",
      "equal width (-3.444, 4.889] value 16\n",
      "equal width (-3.444, 4.889] value 17\n",
      "equal width (4.889, 13.222] value 26\n",
      "equal frequency (-11.779, -1.111] value 1\n",
      "equal frequency (-11.779, -1.111] value 4\n",
      "equal frequency (-11.779, -1.111] value 9\n",
      "equal frequency (-1.111, 2.556] value 13\n",
      "equal frequency (-1.111, 2.556] value 14\n",
      "equal frequency (-1.111, 2.556] value 15\n",
      "equal frequency (2.556, 13.222] value 16\n",
      "equal frequency (2.556, 13.222] value 17\n",
      "equal frequency (2.556, 13.222] value 26\n"
     ]
    }
   ],
   "source": [
    "lis_a = lis-(np.mean(lis))\n",
    "wid_a = pd.cut(lis_a,3)\n",
    "freq_a = pd.qcut(lis_a,3)\n",
    "k = 0\n",
    "l = 0\n",
    "for i in wid_a:\n",
    "    print(\"equal width\",i,\"value\",lis[k])\n",
    "    k+=1\n",
    "for j in freq_a:\n",
    "    print(\"equal frequency\",j,\"value\",lis[l])\n",
    "    l+=1"
   ]
  },
  {
   "cell_type": "markdown",
   "metadata": {},
   "source": [
    "**b)**"
   ]
  },
  {
   "cell_type": "code",
   "execution_count": 47,
   "metadata": {},
   "outputs": [
    {
     "name": "stdout",
     "output_type": "stream",
     "text": [
      "equal width (-1.689, -0.493] value 1\n",
      "equal width (-1.689, -0.493] value 4\n",
      "equal width (-1.689, -0.493] value 9\n",
      "equal width (-0.493, 0.7] value 13\n",
      "equal width (-0.493, 0.7] value 14\n",
      "equal width (-0.493, 0.7] value 15\n",
      "equal width (-0.493, 0.7] value 16\n",
      "equal width (-0.493, 0.7] value 17\n",
      "equal width (0.7, 1.892] value 26\n",
      "equal frequency (-1.686, -0.159] value 1\n",
      "equal frequency (-1.686, -0.159] value 4\n",
      "equal frequency (-1.686, -0.159] value 9\n",
      "equal frequency (-0.159, 0.366] value 13\n",
      "equal frequency (-0.159, 0.366] value 14\n",
      "equal frequency (-0.159, 0.366] value 15\n",
      "equal frequency (0.366, 1.892] value 16\n",
      "equal frequency (0.366, 1.892] value 17\n",
      "equal frequency (0.366, 1.892] value 26\n"
     ]
    }
   ],
   "source": [
    "lis_b = (lis-(np.mean(lis)))/np.std(lis)\n",
    "wid_b = pd.cut(lis_b,3)\n",
    "freq_b = pd.qcut(lis_b,3)\n",
    "k = 0\n",
    "l = 0\n",
    "for i in wid_b:\n",
    "    print(\"equal width\",i,\"value\",lis[k])\n",
    "    k+=1\n",
    "for j in freq_b:\n",
    "    print(\"equal frequency\",j,\"value\",lis[l])\n",
    "    l+=1"
   ]
  },
  {
   "cell_type": "markdown",
   "metadata": {},
   "source": [
    "**c)**"
   ]
  },
  {
   "cell_type": "code",
   "execution_count": 45,
   "metadata": {},
   "outputs": [
    {
     "name": "stdout",
     "output_type": "stream",
     "text": [
      "equal width (0.179, 2.334] value 1\n",
      "equal width (0.179, 2.334] value 4\n",
      "equal width (0.179, 2.334] value 9\n",
      "equal width (0.179, 2.334] value 13\n",
      "equal width (0.179, 2.334] value 14\n",
      "equal width (0.179, 2.334] value 15\n",
      "equal width (0.179, 2.334] value 16\n",
      "equal width (0.179, 2.334] value 17\n",
      "equal width (4.483, 6.633] value 26\n",
      "equal frequency (0.184, 0.882] value 1\n",
      "equal frequency (0.184, 0.882] value 4\n",
      "equal frequency (0.184, 0.882] value 9\n",
      "equal frequency (0.882, 1.445] value 13\n",
      "equal frequency (0.882, 1.445] value 14\n",
      "equal frequency (0.882, 1.445] value 15\n",
      "equal frequency (1.445, 6.633] value 16\n",
      "equal frequency (1.445, 6.633] value 17\n",
      "equal frequency (1.445, 6.633] value 26\n"
     ]
    }
   ],
   "source": [
    "lis_c = np.exp((lis-(np.mean(lis)))/np.std(lis))\n",
    "wid_c = pd.cut(lis_c,3)\n",
    "freq_c = pd.qcut(lis_c,3)\n",
    "k = 0\n",
    "l = 0\n",
    "for i in wid_c:\n",
    "    print(\"equal width\",i,\"value\",lis[k])\n",
    "    k+=1\n",
    "for j in freq_c:\n",
    "    print(\"equal frequency\",j,\"value\",lis[l])\n",
    "    l+=1"
   ]
  },
  {
   "cell_type": "markdown",
   "metadata": {},
   "source": [
    "✅Answer:\n",
    "\n",
    "From the above transformations, we can see that, method a and method b does not change how equal width or equal frequency boxing the list variables, but method c change how equal width assign variables to the bins, it was 3,5,1 and now 8,1. I think this is because exponential trnasformation change the \"difference multiple\" between numbers, what was larger was more influenced by the exponential transformation than the smaller numbers. Thus this is why method c can change the bins when using equal_width method, as it is more sensitive to outliers as we talked on class. For equal frequency, it will always be 3,3,3 as how we set it to be, just like what we say \"robust to outliers\"."
   ]
  },
  {
   "cell_type": "markdown",
   "metadata": {},
   "source": [
    "**Question 8**"
   ]
  },
  {
   "cell_type": "markdown",
   "metadata": {},
   "source": [
    "**a)**"
   ]
  },
  {
   "cell_type": "markdown",
   "metadata": {},
   "source": [
    "*Approach 2*"
   ]
  },
  {
   "cell_type": "code",
   "execution_count": 7,
   "metadata": {},
   "outputs": [
    {
     "name": "stdout",
     "output_type": "stream",
     "text": [
      "6 and 12 with approach 2 has weight 170.0\n"
     ]
    }
   ],
   "source": [
    "w1 = (150+200+280+130+240+110+130+120+180+160)/10\n",
    "\n",
    "print(\"6 and 12 with approach 2 has weight\",w1)"
   ]
  },
  {
   "cell_type": "markdown",
   "metadata": {},
   "source": [
    "*Approach 3*"
   ]
  },
  {
   "cell_type": "code",
   "execution_count": 6,
   "metadata": {},
   "outputs": [
    {
     "name": "stdout",
     "output_type": "stream",
     "text": [
      "6 with approach 3 has weight 200.0\n",
      "12 with approach 3 has weight 140.0\n"
     ]
    }
   ],
   "source": [
    "male = (150+200+280+130+240)/5\n",
    "female = (110+130+120+180+160)/5\n",
    "print(\"6 with approach 3 has weight\", male)\n",
    "print(\"12 with approach 3 has weight\", female)"
   ]
  },
  {
   "cell_type": "markdown",
   "metadata": {},
   "source": [
    "**b)**"
   ]
  },
  {
   "cell_type": "markdown",
   "metadata": {},
   "source": [
    "*Approach 1*"
   ]
  },
  {
   "cell_type": "code",
   "execution_count": 10,
   "metadata": {},
   "outputs": [
    {
     "data": {
      "text/plain": [
       "170.0"
      ]
     },
     "execution_count": 10,
     "metadata": {},
     "output_type": "execute_result"
    }
   ],
   "source": [
    "wb1 = (150+200+280+130+240+110+130+120+180+160)/10\n",
    "wb1"
   ]
  },
  {
   "cell_type": "markdown",
   "metadata": {},
   "source": [
    "*Approach 2*"
   ]
  },
  {
   "cell_type": "code",
   "execution_count": 8,
   "metadata": {},
   "outputs": [
    {
     "data": {
      "text/plain": [
       "170.0"
      ]
     },
     "execution_count": 8,
     "metadata": {},
     "output_type": "execute_result"
    }
   ],
   "source": [
    "wb = (150+200+280+130+240+110+130+120+180+160+w1+w1)/12\n",
    "wb"
   ]
  },
  {
   "cell_type": "markdown",
   "metadata": {},
   "source": [
    "*Approach 3*"
   ]
  },
  {
   "cell_type": "code",
   "execution_count": 9,
   "metadata": {},
   "outputs": [
    {
     "data": {
      "text/plain": [
       "170.0"
      ]
     },
     "execution_count": 9,
     "metadata": {},
     "output_type": "execute_result"
    }
   ],
   "source": [
    "wb2 = (150+200+280+130+240+110+130+120+180+160+male+female)/12\n",
    "wb2"
   ]
  },
  {
   "cell_type": "markdown",
   "metadata": {},
   "source": [
    "✅From the above we can see that, all the approaches will result in the same average weight. which is 170."
   ]
  },
  {
   "cell_type": "markdown",
   "metadata": {},
   "source": [
    "**c)**"
   ]
  },
  {
   "cell_type": "markdown",
   "metadata": {},
   "source": [
    "✅Answer:\n",
    "\n",
    "The \"dropna\" method will be good when we have a large scale of data size, when one or two missing value does not have a huge inpact on overall average, such as, when we have one minion entries of data, dropping two rows with missing values is not a big deal."
   ]
  }
 ],
 "metadata": {
  "kernelspec": {
   "display_name": "Python 3.9.6 64-bit",
   "language": "python",
   "name": "python3"
  },
  "language_info": {
   "codemirror_mode": {
    "name": "ipython",
    "version": 3
   },
   "file_extension": ".py",
   "mimetype": "text/x-python",
   "name": "python",
   "nbconvert_exporter": "python",
   "pygments_lexer": "ipython3",
   "version": "3.9.6"
  },
  "orig_nbformat": 4,
  "vscode": {
   "interpreter": {
    "hash": "31f2aee4e71d21fbe5cf8b01ff0e069b9275f58929596ceb00d14d90e3e16cd6"
   }
  }
 },
 "nbformat": 4,
 "nbformat_minor": 2
}
