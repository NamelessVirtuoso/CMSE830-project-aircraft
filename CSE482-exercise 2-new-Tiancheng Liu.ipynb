{
 "cells": [
  {
   "cell_type": "markdown",
   "id": "d231dae0",
   "metadata": {},
   "source": [
    "## Question 1"
   ]
  },
  {
   "cell_type": "markdown",
   "id": "68646b85",
   "metadata": {},
   "source": [
    "✅Created twitter account with MSU email, saved all information in a config.ini file."
   ]
  },
  {
   "cell_type": "markdown",
   "id": "5a8a96b5",
   "metadata": {},
   "source": [
    "## Question 2"
   ]
  },
  {
   "cell_type": "code",
   "execution_count": 2,
   "id": "d2d37f04",
   "metadata": {},
   "outputs": [],
   "source": [
    "import tweepy\n",
    "from tweepy import OAuthHandler\n",
    "from tweepy import API\n",
    "import pandas as pd\n",
    "import configparser\n",
    "import numpy as np"
   ]
  },
  {
   "cell_type": "markdown",
   "id": "3fae1a2a",
   "metadata": {},
   "source": [
    "✅Keys."
   ]
  },
  {
   "cell_type": "code",
   "execution_count": 23,
   "id": "b8ae6702",
   "metadata": {},
   "outputs": [],
   "source": [
    "\n",
    "config = configparser.ConfigParser(interpolation=None)\n",
    "config.read('config.ini')\n",
    "\n",
    "api_key = config['twitter']['api_key']\n",
    "api_key_secret = config['twitter']['api_key_secret']\n",
    "\n",
    "access_token = config['twitter']['access_token']\n",
    "access_token_secret = config['twitter']['access_token_secret']"
   ]
  },
  {
   "cell_type": "markdown",
   "id": "83cb8215",
   "metadata": {},
   "source": [
    "✅Set authorize related variables."
   ]
  },
  {
   "cell_type": "code",
   "execution_count": 24,
   "id": "aa2a8354",
   "metadata": {},
   "outputs": [],
   "source": [
    "auth = tweepy.OAuthHandler(api_key, api_key_secret)\n",
    "auth.set_access_token(access_token,access_token_secret)\n",
    "api = tweepy.API(auth)"
   ]
  },
  {
   "cell_type": "code",
   "execution_count": 25,
   "id": "e1279bd7",
   "metadata": {},
   "outputs": [],
   "source": [
    "publictweets = api.home_timeline()"
   ]
  },
  {
   "cell_type": "code",
   "execution_count": 37,
   "id": "000c0a5d",
   "metadata": {},
   "outputs": [],
   "source": [
    "user = 'CDCgov'\n",
    "tm = 'extended'\n",
    "limit = 30\n",
    "\n",
    "tweets = tweepy.Cursor(api.user_timeline, screen_name = user, tweet_mode = tm).items(limit)"
   ]
  },
  {
   "cell_type": "markdown",
   "id": "c09c4188",
   "metadata": {},
   "source": [
    "✅Loop through the df and store the informations in a new df."
   ]
  },
  {
   "cell_type": "code",
   "execution_count": 38,
   "id": "aeba0f45",
   "metadata": {},
   "outputs": [],
   "source": [
    "df = []\n",
    "columns = [\"Timeline\",\"User\",\"tweet\"]\n",
    "\n",
    "for i in tweets:\n",
    "    df.append([i.created_at,i.user.screen_name,i.full_text])\n",
    "    \n",
    "data = pd.DataFrame(df,columns=columns)"
   ]
  },
  {
   "cell_type": "code",
   "execution_count": 40,
   "id": "d533531c",
   "metadata": {},
   "outputs": [
    {
     "data": {
      "text/html": [
       "<div>\n",
       "<style scoped>\n",
       "    .dataframe tbody tr th:only-of-type {\n",
       "        vertical-align: middle;\n",
       "    }\n",
       "\n",
       "    .dataframe tbody tr th {\n",
       "        vertical-align: top;\n",
       "    }\n",
       "\n",
       "    .dataframe thead th {\n",
       "        text-align: right;\n",
       "    }\n",
       "</style>\n",
       "<table border=\"1\" class=\"dataframe\">\n",
       "  <thead>\n",
       "    <tr style=\"text-align: right;\">\n",
       "      <th></th>\n",
       "      <th>Timeline</th>\n",
       "      <th>User</th>\n",
       "      <th>tweet</th>\n",
       "    </tr>\n",
       "  </thead>\n",
       "  <tbody>\n",
       "    <tr>\n",
       "      <th>0</th>\n",
       "      <td>2022-09-28 21:12:47+00:00</td>\n",
       "      <td>CDCgov</td>\n",
       "      <td>RT @CDCEnvironment: Be safe if the power goes ...</td>\n",
       "    </tr>\n",
       "    <tr>\n",
       "      <th>1</th>\n",
       "      <td>2022-09-28 20:30:04+00:00</td>\n",
       "      <td>CDCgov</td>\n",
       "      <td>#DYK you can get either Moderna or Pfizer-BioN...</td>\n",
       "    </tr>\n",
       "    <tr>\n",
       "      <th>2</th>\n",
       "      <td>2022-09-28 20:20:31+00:00</td>\n",
       "      <td>CDCgov</td>\n",
       "      <td>RT @CDCEnvironment: Your area may be affected ...</td>\n",
       "    </tr>\n",
       "    <tr>\n",
       "      <th>3</th>\n",
       "      <td>2022-09-28 19:46:21+00:00</td>\n",
       "      <td>CDCgov</td>\n",
       "      <td>RT @988Lifeline: As #SPM22 comes to an end rem...</td>\n",
       "    </tr>\n",
       "    <tr>\n",
       "      <th>4</th>\n",
       "      <td>2022-09-28 19:03:59+00:00</td>\n",
       "      <td>CDCgov</td>\n",
       "      <td>RT @CDCDirector: CDC continues to work on a po...</td>\n",
       "    </tr>\n",
       "  </tbody>\n",
       "</table>\n",
       "</div>"
      ],
      "text/plain": [
       "                   Timeline    User  \\\n",
       "0 2022-09-28 21:12:47+00:00  CDCgov   \n",
       "1 2022-09-28 20:30:04+00:00  CDCgov   \n",
       "2 2022-09-28 20:20:31+00:00  CDCgov   \n",
       "3 2022-09-28 19:46:21+00:00  CDCgov   \n",
       "4 2022-09-28 19:03:59+00:00  CDCgov   \n",
       "\n",
       "                                               tweet  \n",
       "0  RT @CDCEnvironment: Be safe if the power goes ...  \n",
       "1  #DYK you can get either Moderna or Pfizer-BioN...  \n",
       "2  RT @CDCEnvironment: Your area may be affected ...  \n",
       "3  RT @988Lifeline: As #SPM22 comes to an end rem...  \n",
       "4  RT @CDCDirector: CDC continues to work on a po...  "
      ]
     },
     "execution_count": 40,
     "metadata": {},
     "output_type": "execute_result"
    }
   ],
   "source": [
    "data.head()"
   ]
  },
  {
   "cell_type": "code",
   "execution_count": 41,
   "id": "9fec1d6d",
   "metadata": {},
   "outputs": [],
   "source": [
    "tt = data['tweet'].to_numpy()\n",
    "\n",
    "np.savetxt(\"cdcgov.txt\", tt, fmt='%s', encoding='utf-8')"
   ]
  },
  {
   "cell_type": "markdown",
   "id": "8b5e85de",
   "metadata": {},
   "source": [
    "## Question 3"
   ]
  },
  {
   "cell_type": "code",
   "execution_count": 30,
   "id": "fbfbee85",
   "metadata": {},
   "outputs": [],
   "source": [
    "import time\n",
    "import json"
   ]
  },
  {
   "cell_type": "code",
   "execution_count": 31,
   "id": "c501e2d2",
   "metadata": {},
   "outputs": [],
   "source": [
    "class MyListener(tweepy.StreamingClient):\n",
    "    def __init__(self, bearer_token, time_limit=60):\n",
    "        self.start_time = time.time()\n",
    "        self.limit = time_limit\n",
    "        self.outFile = open('politics.json', 'a', encoding='utf-8')\n",
    "        super(MyListener, self).__init__(bearer_token)\n",
    "    \n",
    "    def on_data(self, data):\n",
    "        if (time.time() - self.start_time) < self.limit:\n",
    "            self.outFile.write(data.decode('utf-8'))\n",
    "            self.outFile.write('\\n')\n",
    "        else:\n",
    "            self.outFile.close()\n",
    "            self.disconnect()\n",
    "\n",
    "    def on_error(self, status):\n",
    "        print(status)"
   ]
  },
  {
   "cell_type": "code",
   "execution_count": 32,
   "id": "91582f0d",
   "metadata": {},
   "outputs": [],
   "source": [
    "\n",
    "bearer_token = config['twitter']['Bearer_token']"
   ]
  },
  {
   "cell_type": "code",
   "execution_count": 33,
   "id": "5fd2aa12",
   "metadata": {},
   "outputs": [
    {
     "name": "stderr",
     "output_type": "stream",
     "text": [
      "Stream connection closed by Twitter\n"
     ]
    },
    {
     "data": {
      "text/plain": [
       "Response(data=[StreamRule(value='politics', tag=None, id='1575269469286502400'), StreamRule(value='\"politics\"', tag=None, id='1575269997672366083')], includes={}, errors=[], meta={'sent': '2022-09-29T00:16:41.692Z', 'result_count': 2})"
      ]
     },
     "execution_count": 33,
     "metadata": {},
     "output_type": "execute_result"
    }
   ],
   "source": [
    "streaming_client = MyListener(bearer_token)\n",
    "streaming_client.add_rules(tweepy.StreamRule('\"politics\"'))\n",
    "streaming_client.filter()\n",
    "streaming_client.get_rules()"
   ]
  }
 ],
 "metadata": {
  "kernelspec": {
   "display_name": "Python 3.9.6 64-bit",
   "language": "python",
   "name": "python3"
  },
  "language_info": {
   "codemirror_mode": {
    "name": "ipython",
    "version": 3
   },
   "file_extension": ".py",
   "mimetype": "text/x-python",
   "name": "python",
   "nbconvert_exporter": "python",
   "pygments_lexer": "ipython3",
   "version": "3.9.6"
  },
  "vscode": {
   "interpreter": {
    "hash": "31f2aee4e71d21fbe5cf8b01ff0e069b9275f58929596ceb00d14d90e3e16cd6"
   }
  }
 },
 "nbformat": 4,
 "nbformat_minor": 5
}
