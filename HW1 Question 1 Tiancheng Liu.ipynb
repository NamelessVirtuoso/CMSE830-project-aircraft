{
 "cells": [
  {
   "cell_type": "code",
   "execution_count": 15,
   "metadata": {},
   "outputs": [
    {
     "data": {
      "text/html": [
       "<div>\n",
       "<style scoped>\n",
       "    .dataframe tbody tr th:only-of-type {\n",
       "        vertical-align: middle;\n",
       "    }\n",
       "\n",
       "    .dataframe tbody tr th {\n",
       "        vertical-align: top;\n",
       "    }\n",
       "\n",
       "    .dataframe thead th {\n",
       "        text-align: right;\n",
       "    }\n",
       "</style>\n",
       "<table border=\"1\" class=\"dataframe\">\n",
       "  <thead>\n",
       "    <tr style=\"text-align: right;\">\n",
       "      <th></th>\n",
       "      <th>user</th>\n",
       "      <th>sku</th>\n",
       "      <th>category</th>\n",
       "      <th>query</th>\n",
       "      <th>click_time</th>\n",
       "      <th>query_time</th>\n",
       "    </tr>\n",
       "  </thead>\n",
       "  <tbody>\n",
       "    <tr>\n",
       "      <th>0</th>\n",
       "      <td>00065b1c372618e0f4de04b4e81113a232691032</td>\n",
       "      <td>1331156</td>\n",
       "      <td>pcmcat128700050041</td>\n",
       "      <td>apple tv</td>\n",
       "      <td>2011-09-05 11:43:51.443</td>\n",
       "      <td>2011-09-05 11:43:22.266</td>\n",
       "    </tr>\n",
       "    <tr>\n",
       "      <th>1</th>\n",
       "      <td>0007396a7aff176701eea1cf7ac71fc7ad47c9cb</td>\n",
       "      <td>3122039</td>\n",
       "      <td>pcmcat50300050014</td>\n",
       "      <td>Delis bionic</td>\n",
       "      <td>2011-09-18 11:59:24.339</td>\n",
       "      <td>2011-09-18 11:58:43.67</td>\n",
       "    </tr>\n",
       "    <tr>\n",
       "      <th>2</th>\n",
       "      <td>0008f55a6ea1aaf500b8d6a4631c79aa6ff46812</td>\n",
       "      <td>9225411</td>\n",
       "      <td>abcat0201011</td>\n",
       "      <td>32g iPod touch</td>\n",
       "      <td>2011-10-19 00:04:53.132</td>\n",
       "      <td>2011-10-19 00:04:40.825</td>\n",
       "    </tr>\n",
       "    <tr>\n",
       "      <th>3</th>\n",
       "      <td>0009901c4e06520082dd52e7634e8427717ed51a</td>\n",
       "      <td>2375201</td>\n",
       "      <td>abcat0703002</td>\n",
       "      <td>madden 12</td>\n",
       "      <td>2011-08-29 19:32:01.97</td>\n",
       "      <td>2011-08-29 19:31:27.691</td>\n",
       "    </tr>\n",
       "    <tr>\n",
       "      <th>4</th>\n",
       "      <td>000c62e1a07d47979fdbf7e874d28c57b9bd44bf</td>\n",
       "      <td>2204211</td>\n",
       "      <td>pcmcat144700050004</td>\n",
       "      <td>Tron headphones</td>\n",
       "      <td>2011-10-14 03:58:38.43</td>\n",
       "      <td>2011-10-14 03:58:15.222</td>\n",
       "    </tr>\n",
       "  </tbody>\n",
       "</table>\n",
       "</div>"
      ],
      "text/plain": [
       "                                       user      sku            category  \\\n",
       "0  00065b1c372618e0f4de04b4e81113a232691032  1331156  pcmcat128700050041   \n",
       "1  0007396a7aff176701eea1cf7ac71fc7ad47c9cb  3122039   pcmcat50300050014   \n",
       "2  0008f55a6ea1aaf500b8d6a4631c79aa6ff46812  9225411        abcat0201011   \n",
       "3  0009901c4e06520082dd52e7634e8427717ed51a  2375201        abcat0703002   \n",
       "4  000c62e1a07d47979fdbf7e874d28c57b9bd44bf  2204211  pcmcat144700050004   \n",
       "\n",
       "             query               click_time               query_time  \n",
       "0         apple tv  2011-09-05 11:43:51.443  2011-09-05 11:43:22.266  \n",
       "1     Delis bionic  2011-09-18 11:59:24.339   2011-09-18 11:58:43.67  \n",
       "2   32g iPod touch  2011-10-19 00:04:53.132  2011-10-19 00:04:40.825  \n",
       "3        madden 12   2011-08-29 19:32:01.97  2011-08-29 19:31:27.691  \n",
       "4  Tron headphones   2011-10-14 03:58:38.43  2011-10-14 03:58:15.222  "
      ]
     },
     "execution_count": 15,
     "metadata": {},
     "output_type": "execute_result"
    }
   ],
   "source": [
    "import pandas as pd \n",
    "bestbuy = pd.read_csv(\"bestbuy.csv\")\n",
    "bestbuy.head()"
   ]
  },
  {
   "cell_type": "code",
   "execution_count": 16,
   "metadata": {},
   "outputs": [],
   "source": [
    "import mysql.connector\n",
    "uname = \"liutia18\"\n",
    "pwd = \"xxxxxx\"#deleated after successful running\n",
    "hname = \"mysql-user-cse.egr.msu.edu\""
   ]
  },
  {
   "cell_type": "markdown",
   "metadata": {},
   "source": [
    "**a)**"
   ]
  },
  {
   "cell_type": "code",
   "execution_count": 24,
   "metadata": {},
   "outputs": [],
   "source": [
    "cnx = mysql.connector.connect(user=uname, password=pwd, host=hname, database=uname)\n",
    "cursor = cnx.cursor()\n",
    "query = \"DROP TABLE IF EXISTS bestbuy\"\n",
    "cursor.execute(query)\n",
    "\n",
    "query = \"\"\"CREATE TABLE IF NOT EXISTS bestbuy (\n",
    "    user varchar(50),\n",
    "    sku int,\n",
    "    category varchar(50),\n",
    "    query varchar(100),\n",
    "    click_time varchar(50),\n",
    "    query_time varchar(50)\n",
    "    )\n",
    "    \"\"\"\n",
    "cursor.execute(query)\n",
    "cursor.close()\n",
    "cnx.commit()\n",
    "cnx.close()"
   ]
  },
  {
   "cell_type": "code",
   "execution_count": 25,
   "metadata": {},
   "outputs": [],
   "source": [
    "def byUnicode(char):\n",
    "    if ord(char) < 48 or ord(char) > 127: return ''\n",
    "    else: return char\n",
    "\n",
    "try:    \n",
    "    cnx = mysql.connector.connect(user=uname, password=pwd, host=hname, database=uname)\n",
    "    cursor = cnx.cursor()\n",
    "    \n",
    "    for index, row in bestbuy.iterrows():\n",
    "        user = ''.join(list(filter(byUnicode, row['user'])))\n",
    "        sku = row['sku']\n",
    "        category = ''.join(list(filter(byUnicode, row['category'])))\n",
    "        query = ''.join(list(filter(byUnicode, row['query'])))\n",
    "        click_time = row['click_time']\n",
    "        query_time = row['query_time']\n",
    "        cursor.execute(\"INSERT INTO bestbuy (user,sku,category,query,click_time,query_time) values(%s,%s,%s,%s,%s,%s)\", \n",
    "                       (user, sku, category, query, click_time, query_time))\n",
    "        \n",
    "    cnx.commit()\n",
    "    cursor.close()\n",
    "    cnx.close()\n",
    "    \n",
    "except:\n",
    "    print(mysql.connector.Error)"
   ]
  },
  {
   "cell_type": "markdown",
   "metadata": {},
   "source": [
    "**b)**"
   ]
  },
  {
   "cell_type": "code",
   "execution_count": 26,
   "metadata": {},
   "outputs": [
    {
     "name": "stdout",
     "output_type": "stream",
     "text": [
      "(15210,)\n"
     ]
    }
   ],
   "source": [
    "cnx = mysql.connector.connect(user=uname, password=pwd, host=hname, database=uname)\n",
    "cursor = cnx.cursor()\n",
    "query = \"\"\"SELECT COUNT(*) FROM bestbuy\"\"\"\n",
    "cursor.execute(query)\n",
    "\n",
    "for num in cursor:\n",
    "    print(num)\n",
    "\n",
    "cursor.fetchone()\n",
    "cursor.close()\n",
    "cnx.close()"
   ]
  },
  {
   "cell_type": "markdown",
   "metadata": {},
   "source": [
    "**c)**"
   ]
  },
  {
   "cell_type": "code",
   "execution_count": 27,
   "metadata": {},
   "outputs": [
    {
     "name": "stdout",
     "output_type": "stream",
     "text": [
      "[((2842056,), 1227), ((2842092,), 673), ((1945531,), 654), ((9755322,), 634), ((9225377,), 557)]\n"
     ]
    }
   ],
   "source": [
    "from collections import Counter\n",
    "cnx = mysql.connector.connect(user=uname, password=pwd, host=hname, database=uname)\n",
    "cursor = cnx.cursor()\n",
    "query = \"\"\"SELECT sku FROM bestbuy\"\"\"\n",
    "cursor.execute(query)\n",
    "\n",
    "c = Counter(cursor)\n",
    "print (c.most_common(5))\n",
    "\n",
    "\n",
    "cursor.close()\n",
    "cnx.close()"
   ]
  }
 ],
 "metadata": {
  "kernelspec": {
   "display_name": "Python 3.9.6 64-bit",
   "language": "python",
   "name": "python3"
  },
  "language_info": {
   "codemirror_mode": {
    "name": "ipython",
    "version": 3
   },
   "file_extension": ".py",
   "mimetype": "text/x-python",
   "name": "python",
   "nbconvert_exporter": "python",
   "pygments_lexer": "ipython3",
   "version": "3.9.6"
  },
  "orig_nbformat": 4,
  "vscode": {
   "interpreter": {
    "hash": "31f2aee4e71d21fbe5cf8b01ff0e069b9275f58929596ceb00d14d90e3e16cd6"
   }
  }
 },
 "nbformat": 4,
 "nbformat_minor": 2
}
