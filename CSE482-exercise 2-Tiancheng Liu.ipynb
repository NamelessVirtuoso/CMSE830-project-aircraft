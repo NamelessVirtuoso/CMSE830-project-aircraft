{
 "cells": [
  {
   "cell_type": "code",
   "execution_count": 1,
   "metadata": {},
   "outputs": [],
   "source": [
    "import tweepy as tp\n",
    "import configparser as cf"
   ]
  },
  {
   "cell_type": "code",
   "execution_count": 2,
   "metadata": {},
   "outputs": [],
   "source": [
    "config = cf.ConfigParser()\n",
    "config.read(\"config.ini\")\n",
    "\n",
    "api_key = config['twitter']['api_key']\n",
    "api_key_secret = config['twitter']['api_key_secret']\n",
    "access_token = config['twitter']['access_token']\n",
    "access_token_secret = config['twitter']['access_token_secret']"
   ]
  },
  {
   "cell_type": "code",
   "execution_count": 3,
   "metadata": {},
   "outputs": [
    {
     "data": {
      "text/plain": [
       "[]"
      ]
     },
     "execution_count": 3,
     "metadata": {},
     "output_type": "execute_result"
    }
   ],
   "source": [
    "auth = tp.OAuthHandler(api_key,api_key_secret)\n",
    "auth.set_access_token(access_token,access_token_secret)\n",
    "\n",
    "api = tp.API(auth)\n",
    "\n",
    "pub = api.home_timeline()\n",
    "\n",
    "pub"
   ]
  },
  {
   "cell_type": "code",
   "execution_count": 2,
   "metadata": {},
   "outputs": [
    {
     "data": {
      "text/plain": [
       "'AAAAAAAAAAAAAAAAAAAAAAyBhQEAAAAATq5C6lrT2jKh6nQGs5hf%2BkS83GE%3DsIdxcSnRlcbAvRZKIjUAeEaljOYOAc5fynxDQPGUZ6a5ph1ZyI'"
      ]
     },
     "execution_count": 2,
     "metadata": {},
     "output_type": "execute_result"
    }
   ],
   "source": [
    "bearer_token = r\"AAAAAAAAAAAAAAAAAAAAAAyBhQEAAAAATq5C6lrT2jKh6nQGs5hf%2BkS83GE%3DsIdxcSnRlcbAvRZKIjUAeEaljOYOAc5fynxDQPGUZ6a5ph1ZyI\"\n",
    "bearer_token"
   ]
  },
  {
   "cell_type": "code",
   "execution_count": 5,
   "metadata": {},
   "outputs": [
    {
     "data": {
      "text/html": [
       "<div>\n",
       "<style scoped>\n",
       "    .dataframe tbody tr th:only-of-type {\n",
       "        vertical-align: middle;\n",
       "    }\n",
       "\n",
       "    .dataframe tbody tr th {\n",
       "        vertical-align: top;\n",
       "    }\n",
       "\n",
       "    .dataframe thead th {\n",
       "        text-align: right;\n",
       "    }\n",
       "</style>\n",
       "<table border=\"1\" class=\"dataframe\">\n",
       "  <thead>\n",
       "    <tr style=\"text-align: right;\">\n",
       "      <th></th>\n",
       "      <th>Timeline</th>\n",
       "      <th>User</th>\n",
       "      <th>tweet</th>\n",
       "    </tr>\n",
       "  </thead>\n",
       "  <tbody>\n",
       "    <tr>\n",
       "      <th>0</th>\n",
       "      <td>2022-09-28 21:16:47+00:00</td>\n",
       "      <td>Google</td>\n",
       "      <td>RT @WittedNote: Earlier this week, I said your...</td>\n",
       "    </tr>\n",
       "    <tr>\n",
       "      <th>1</th>\n",
       "      <td>2022-09-28 20:25:07+00:00</td>\n",
       "      <td>Google</td>\n",
       "      <td>We're introducing new ways to shop with Google...</td>\n",
       "    </tr>\n",
       "    <tr>\n",
       "      <th>2</th>\n",
       "      <td>2022-09-28 18:33:53+00:00</td>\n",
       "      <td>Google</td>\n",
       "      <td>RT @WittedNote: Today at #SearchOn, we shared ...</td>\n",
       "    </tr>\n",
       "    <tr>\n",
       "      <th>3</th>\n",
       "      <td>2022-09-28 17:53:30+00:00</td>\n",
       "      <td>Google</td>\n",
       "      <td>At #SearchOn, we shared how we’re getting clos...</td>\n",
       "    </tr>\n",
       "    <tr>\n",
       "      <th>4</th>\n",
       "      <td>2022-09-28 17:47:15+00:00</td>\n",
       "      <td>Google</td>\n",
       "      <td>Early next year, you'll also be able to opt in...</td>\n",
       "    </tr>\n",
       "  </tbody>\n",
       "</table>\n",
       "</div>"
      ],
      "text/plain": [
       "                   Timeline    User  \\\n",
       "0 2022-09-28 21:16:47+00:00  Google   \n",
       "1 2022-09-28 20:25:07+00:00  Google   \n",
       "2 2022-09-28 18:33:53+00:00  Google   \n",
       "3 2022-09-28 17:53:30+00:00  Google   \n",
       "4 2022-09-28 17:47:15+00:00  Google   \n",
       "\n",
       "                                               tweet  \n",
       "0  RT @WittedNote: Earlier this week, I said your...  \n",
       "1  We're introducing new ways to shop with Google...  \n",
       "2  RT @WittedNote: Today at #SearchOn, we shared ...  \n",
       "3  At #SearchOn, we shared how we’re getting clos...  \n",
       "4  Early next year, you'll also be able to opt in...  "
      ]
     },
     "execution_count": 5,
     "metadata": {},
     "output_type": "execute_result"
    }
   ],
   "source": [
    "import tweepy as tp\n",
    "import configparser as cf\n",
    "\n",
    "config = cf.ConfigParser()\n",
    "config.read(\"config.ini\")\n",
    "\n",
    "api_key = config['twitter']['api_key']\n",
    "api_key_secret = config['twitter']['api_key_secret']\n",
    "access_token = config['twitter']['access_token']\n",
    "access_token_secret = config['twitter']['access_token_secret']\n",
    "\n",
    "\n",
    "auth = tp.OAuthHandler(api_key,api_key_secret)\n",
    "auth.set_access_token(access_token,access_token_secret)\n",
    "\n",
    "api = tp.API(auth)\n",
    "\n",
    "pub = api.home_timeline(count = 5)\n",
    "\n",
    "columns = [\"Timeline\",\"User\",\"tweet\"]\n",
    "data = []\n",
    "for tweets in pub:\n",
    "    data.append([tweets.created_at,tweets.user.screen_name,tweets.text])\n",
    "    \n",
    "    \n",
    "import pandas as pd\n",
    "df = pd.DataFrame(data,columns=columns)\n",
    "df"
   ]
  }
 ],
 "metadata": {
  "kernelspec": {
   "display_name": "Python 3.9.12 ('base')",
   "language": "python",
   "name": "python3"
  },
  "language_info": {
   "codemirror_mode": {
    "name": "ipython",
    "version": 3
   },
   "file_extension": ".py",
   "mimetype": "text/x-python",
   "name": "python",
   "nbconvert_exporter": "python",
   "pygments_lexer": "ipython3",
   "version": "3.9.12"
  },
  "orig_nbformat": 4,
  "vscode": {
   "interpreter": {
    "hash": "d7347b7e29e8c6e1f51d602afd4e21b7b705c694c3d69fc778f49b64deb486e7"
   }
  }
 },
 "nbformat": 4,
 "nbformat_minor": 2
}
