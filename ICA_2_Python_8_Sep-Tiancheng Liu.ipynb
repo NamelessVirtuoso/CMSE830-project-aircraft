{
  "cells": [
    {
      "cell_type": "markdown",
      "metadata": {
        "id": "MBtqN_uso5ov"
      },
      "source": [
        "____\n",
        "\n",
        "*Name:Tiancheng liu* \n",
        "\n",
        "*Members of my group:Wenting Liu, Yuhan Zhu, Shuangyu Zhao, Yan Lyu*\n",
        "* \n",
        "* \n",
        "* \n",
        "*\n",
        "* \n",
        "____"
      ]
    },
    {
      "cell_type": "code",
      "execution_count": 66,
      "metadata": {
        "id": "D6Ynm7zFIQ1V"
      },
      "outputs": [],
      "source": [
        "import numpy as np\n",
        "import matplotlib.pyplot as plt"
      ]
    },
    {
      "cell_type": "markdown",
      "metadata": {
        "id": "547wXo7PMndw"
      },
      "source": [
        "____\n",
        "# ICA 2: Being Pythonic\n",
        "____\n",
        "\n",
        "In the lecture earlier this week I focused on both Python basics (e.g., keywords, built-in functions, operations) and the Python ecosystem (e.g., NumPy, Pandas, SciPy, Seaborn). \n",
        "\n",
        "At he coding level, Python offers a lot of \"tricks\" that coders love to use. These are elegant ways to code very common tasks. These stylist tricks are referred to as being \"Pythonic\" because they exist only in Python. You will see Pythonic coding everywhere you look and you will end up learning to be Pythonic yourself as you get more experience. \n",
        "\n",
        "As you will see, your code will be shorter and easier to read. If you combine being Pythonic with [PEP-8](https://peps.python.org/pep-0008/), you will have gorgeous code! \n",
        "\n",
        "In today's ICA, we will examine just three ways you can be Pythonic in your coding. There are many others you will learn over time!\n",
        "\n",
        "\n",
        "As usual, put your name in the markdown cell above, along with the group members you worked with. \n",
        "\n",
        "👉🏻 Make it clear where your answers are, perhaps using an emoji and good markdown."
      ]
    },
    {
      "cell_type": "markdown",
      "metadata": {
        "id": "C6PgOwH6Oelh"
      },
      "source": [
        "____\n",
        "## List Comprehensions\n",
        "\n",
        "In DS we often want to fill a list with fake data so that we can have something controlled to work with. (We might then convert that list to an array and/or put it into a dataframe.)\n",
        "\n",
        "In your group, discuss how you would do this. That is, how would you fill an list (or, array) with data from some function you choose? \n",
        "\n",
        "✍🏼 Open a markdown cell and list several ways of doing this, based on the discussion within your group. For example, suppose I want a list with values drawn from `sin(x)` or random numbers: how would you do that? "
      ]
    },
    {
      "cell_type": "code",
      "execution_count": 67,
      "metadata": {},
      "outputs": [],
      "source": [
        "lis1 = np.ones(500)\n",
        "lis2 = np.random.uniform(0,10,10)"
      ]
    },
    {
      "cell_type": "markdown",
      "metadata": {
        "id": "g9CJ-gfpPaoy"
      },
      "source": [
        "A [list comprehension](https://www.w3schools.com/python/python_lists_comprehension.asp) allows you to fill lists/arrays in a single line, and it is much easier to read. Let's examine this code:"
      ]
    },
    {
      "cell_type": "code",
      "execution_count": 68,
      "metadata": {
        "colab": {
          "base_uri": "https://localhost:8080/"
        },
        "id": "L28OLQgjPkml",
        "outputId": "b037b0ce-1dd9-4350-e9bb-e199032ea139"
      },
      "outputs": [
        {
          "data": {
            "text/plain": [
              "[0.0,\n",
              " 0.6427876096865393,\n",
              " 0.984807753012208,\n",
              " 0.8660254037844387,\n",
              " 0.3420201433256689,\n",
              " -0.34202014332566866,\n",
              " -0.8660254037844385,\n",
              " -0.9848077530122081,\n",
              " -0.6427876096865396,\n",
              " -2.4492935982947064e-16]"
            ]
          },
          "execution_count": 68,
          "metadata": {},
          "output_type": "execute_result"
        }
      ],
      "source": [
        "[np.sin(x) for x in np.linspace(0,2*np.pi,10)]"
      ]
    },
    {
      "cell_type": "markdown",
      "metadata": {
        "id": "Z_dtCzy5P-X0"
      },
      "source": [
        "With your group, walk through every step of what this code is doing. Next, each member of your group will try something different. \n",
        "\n",
        "✍🏼 Each person should make an array (not a list) using a list comprehension of their choosing. Use the internet if you need to come up with ideas, but here are a few:\n",
        "* fill the array with some function of random numbers drawn from a uniform random number distribution (this will help you learn the [_many_ methods in NumPy](https://numpy.org/doc/stable/reference/random/generated/numpy.random.uniform.html))\n",
        "* as there are many types of random numbers, different group members can chose from among the many choices: [triangular](https://numpy.org/doc/stable/reference/random/generated/numpy.random.triangular.html), [normal](https://numpy.org/doc/stable/reference/random/generated/numpy.random.normal.html) and so on... \n",
        "* other functions: `exp`, `log`, .... "
      ]
    },
    {
      "cell_type": "code",
      "execution_count": 69,
      "metadata": {},
      "outputs": [
        {
          "data": {
            "text/plain": [
              "(array([ 248.,  662., 1051., 1554., 1910., 1573., 1289.,  927.,  594.,\n",
              "         192.]),\n",
              " array([1.04604027, 1.93250835, 2.81897644, 3.70544453, 4.59191261,\n",
              "        5.4783807 , 6.36484878, 7.25131687, 8.13778496, 9.02425304,\n",
              "        9.91072113]),\n",
              " <BarContainer object of 10 artists>)"
            ]
          },
          "execution_count": 69,
          "metadata": {},
          "output_type": "execute_result"
        },
        {
          "data": {
            "image/png": "[encoded data removed]",
            "text/plain": [
              "<Figure size 432x288 with 1 Axes>"
            ]
          },
          "metadata": {
            "needs_background": "light"
          },
          "output_type": "display_data"
        }
      ],
      "source": [
        "tri = np.random.triangular(1,5,10,10000)\n",
        "tri\n",
        "plt.hist(tri)"
      ]
    },
    {
      "cell_type": "code",
      "execution_count": 70,
      "metadata": {},
      "outputs": [
        {
          "data": {
            "text/plain": [
              "(array([  2.,   1.,   1.,   1.,   2.,   4.,  10.,  24.,  47., 108.]),\n",
              " array([-2.88459525, -2.20509459, -1.52559393, -0.84609328, -0.16659262,\n",
              "         0.51290804,  1.1924087 ,  1.87190936,  2.55141001,  3.23091067,\n",
              "         3.91041133]),\n",
              " <BarContainer object of 10 artists>)"
            ]
          },
          "execution_count": 70,
          "metadata": {},
          "output_type": "execute_result"
        },
        {
          "data": {
            "image/png": "[encoded data removed]",
            "text/plain": [
              "<Figure size 432x288 with 1 Axes>"
            ]
          },
          "metadata": {
            "needs_background": "light"
          },
          "output_type": "display_data"
        }
      ],
      "source": [
        "ar1 = np.random.uniform(0,50,200)\n",
        "log_ar1 = np.log(ar1)\n",
        "plt.hist(log_ar1)"
      ]
    },
    {
      "cell_type": "code",
      "execution_count": 71,
      "metadata": {
        "colab": {
          "base_uri": "https://localhost:8080/",
          "height": 285
        },
        "id": "rZQ7MtdCSU6S",
        "outputId": "d20d5e69-75ff-453a-dc2b-93d8a10740bd"
      },
      "outputs": [
        {
          "data": {
            "image/png": "[encoded data removed]",
            "text/plain": [
              "<Figure size 432x288 with 1 Axes>"
            ]
          },
          "metadata": {
            "needs_background": "light"
          },
          "output_type": "display_data"
        }
      ],
      "source": [
        "# Here is an example to give you the idea:\n",
        "\n",
        "my_fake_data = [np.log(x) for x in np.random.random(500)]\n",
        "plt.hist(my_fake_data, 50);"
      ]
    },
    {
      "cell_type": "markdown",
      "metadata": {
        "id": "d9H7DBfLTBDD"
      },
      "source": [
        "✍🏼 Next, do the same idea but for a two-dimensional (2D) array.  I'll give you an example, then each person picks their own example to share among their group.\n",
        "\n",
        "Here is my example of a 2D list comprehension. Discuss how this works with your group members."
      ]
    },
    {
      "cell_type": "markdown",
      "metadata": {},
      "source": [
        "😄*First it sets the figure size to be a 6x6 graph.*\n",
        "*Then use linspace to create points sits between 0 to 2pi for both x and y.*\n",
        "*Last, sin(x)xcos(y) and use imshow to print the plot.*"
      ]
    },
    {
      "cell_type": "code",
      "execution_count": 72,
      "metadata": {
        "colab": {
          "base_uri": "https://localhost:8080/",
          "height": 413
        },
        "id": "9vVddAJLPsq1",
        "outputId": "e6e61ce5-94e4-4d9e-fc71-8d772a52efff"
      },
      "outputs": [
        {
          "data": {
            "text/plain": [
              "<matplotlib.image.AxesImage at 0x202f16fc550>"
            ]
          },
          "execution_count": 72,
          "metadata": {},
          "output_type": "execute_result"
        },
        {
          "data": {
            "image/png": "[encoded data removed]",
            "text/plain": [
              "<Figure size 432x432 with 1 Axes>"
            ]
          },
          "metadata": {
            "needs_background": "light"
          },
          "output_type": "display_data"
        }
      ],
      "source": [
        "plt.figure(figsize=(6,6))\n",
        "data_2D = [[np.sin(x)*np.cos(y) for x in np.linspace(0,2*np.pi)] for y in np.linspace(0,4*np.pi)]\n",
        "plt.imshow(data_2D)"
      ]
    },
    {
      "cell_type": "markdown",
      "metadata": {
        "id": "WNyZ4vxZ_tpb"
      },
      "source": [
        "✍🏼 Each member in your group should invent a 2D function. An interesting class of functions are those with $f(|x-y|)$, for example. Perhaps one group member can do an exponential, another a Gaussian and so on. Share your idea with your group members."
      ]
    },
    {
      "cell_type": "markdown",
      "metadata": {},
      "source": [
        "I did a circle function, which is (*x**2 + y**2*)."
      ]
    },
    {
      "cell_type": "code",
      "execution_count": 73,
      "metadata": {},
      "outputs": [
        {
          "data": {
            "text/plain": [
              "<matplotlib.image.AxesImage at 0x202f179db50>"
            ]
          },
          "execution_count": 73,
          "metadata": {},
          "output_type": "execute_result"
        },
        {
          "data": {
            "image/png": "[encoded data removed]",
            "text/plain": [
              "<Figure size 576x576 with 1 Axes>"
            ]
          },
          "metadata": {
            "needs_background": "light"
          },
          "output_type": "display_data"
        }
      ],
      "source": [
        "plt.figure(figsize=(8,8))\n",
        "data_2D2 = [[(x**2+y**2) for x in np.linspace(-10,10,100)] for y in np.linspace(-10,10,100)]\n",
        "plt.imshow(data_2D2)"
      ]
    },
    {
      "cell_type": "markdown",
      "metadata": {
        "id": "M7rXX8oOAxO-"
      },
      "source": [
        "____\n",
        "## Lambda Functions\n",
        "\n",
        "Functions play a key role in Python, as defined using the usual `def` keyword, perhaps returning something with `return`.\n",
        "\n",
        "One of the interesting features of functions is that you can make them on **one line**, which is really useful for very small functions. Here is an example:\n"
      ]
    },
    {
      "cell_type": "code",
      "execution_count": 74,
      "metadata": {
        "colab": {
          "base_uri": "https://localhost:8080/"
        },
        "id": "da2V6hjVBZfC",
        "outputId": "96e5fd98-1a82-425c-e298-92269c27b9c8"
      },
      "outputs": [
        {
          "data": {
            "text/plain": [
              "2.0001030625"
            ]
          },
          "execution_count": 74,
          "metadata": {},
          "output_type": "execute_result"
        }
      ],
      "source": [
        "def square(x): return x**2\n",
        "\n",
        "square(1.41425)"
      ]
    },
    {
      "cell_type": "markdown",
      "metadata": {
        "id": "QJnNLeCSCfH6"
      },
      "source": [
        "That is obviously very compact and easy to read. \n",
        "\n",
        "✍🏼 Discuss with your group situations where you might have a large number of very short functions. In those use cases, this compact notation can make your code much more readable.\n",
        "\n",
        "\n",
        "But, it gets better. You can also build a function with a syntax always one line. I'll give you an example:"
      ]
    },
    {
      "cell_type": "markdown",
      "metadata": {},
      "source": [
        "😄*Not too much to say but we all agree on with the statement.*"
      ]
    },
    {
      "cell_type": "code",
      "execution_count": 75,
      "metadata": {
        "colab": {
          "base_uri": "https://localhost:8080/"
        },
        "id": "0J3WJNi9CyAg",
        "outputId": "8d8f268b-f7f0-4144-c6f7-6be5792a25c8"
      },
      "outputs": [
        {
          "data": {
            "text/plain": [
              "3.000000666601"
            ]
          },
          "execution_count": 75,
          "metadata": {},
          "output_type": "execute_result"
        }
      ],
      "source": [
        "f = lambda x: x**2\n",
        "\n",
        "f(1.732051)"
      ]
    },
    {
      "cell_type": "markdown",
      "metadata": {
        "id": "8E_d91cTDiYJ"
      },
      "source": [
        "Note that here $f$ is an object, which we can check:"
      ]
    },
    {
      "cell_type": "code",
      "execution_count": 76,
      "metadata": {
        "colab": {
          "base_uri": "https://localhost:8080/"
        },
        "id": "miE0vtYqDmZO",
        "outputId": "8e922d5a-7114-4277-b70b-8ece3a397860"
      },
      "outputs": [
        {
          "data": {
            "text/plain": [
              "<function __main__.<lambda>(x)>"
            ]
          },
          "execution_count": 76,
          "metadata": {},
          "output_type": "execute_result"
        }
      ],
      "source": [
        "f"
      ]
    },
    {
      "cell_type": "markdown",
      "metadata": {
        "id": "nD1NpsO7Dqpm"
      },
      "source": [
        "But, Python knows that this object is a function:"
      ]
    },
    {
      "cell_type": "code",
      "execution_count": 77,
      "metadata": {
        "colab": {
          "base_uri": "https://localhost:8080/"
        },
        "id": "OZqFDKg8DteU",
        "outputId": "51adb1c1-d792-4bd1-e22c-077941be9a8a"
      },
      "outputs": [
        {
          "data": {
            "text/plain": [
              "function"
            ]
          },
          "execution_count": 77,
          "metadata": {},
          "output_type": "execute_result"
        }
      ],
      "source": [
        "type(f)"
      ]
    },
    {
      "cell_type": "markdown",
      "metadata": {
        "id": "COFB7869DGTM"
      },
      "source": [
        "Therefore, you can use it in the same way you call a function:"
      ]
    },
    {
      "cell_type": "code",
      "execution_count": 78,
      "metadata": {
        "colab": {
          "base_uri": "https://localhost:8080/"
        },
        "id": "EycxQ0XWDyYY",
        "outputId": "57a9519f-472f-4b9a-b181-f0ea8cac0c60"
      },
      "outputs": [
        {
          "data": {
            "text/plain": [
              "5.000053766399999"
            ]
          },
          "execution_count": 78,
          "metadata": {},
          "output_type": "execute_result"
        }
      ],
      "source": [
        "f(2.23608)"
      ]
    },
    {
      "cell_type": "markdown",
      "metadata": {
        "id": "daZv0wQIEGab"
      },
      "source": [
        "✍🏼 Each member of your group should write their own lambda function. Share your ideas and results on the screens so that everyone sees all of the ideas. \n",
        "\n",
        "Here is an idea, but be creative! "
      ]
    },
    {
      "cell_type": "markdown",
      "metadata": {},
      "source": [
        "😄*I drawed a circle.*"
      ]
    },
    {
      "cell_type": "code",
      "execution_count": 79,
      "metadata": {},
      "outputs": [
        {
          "data": {
            "text/plain": [
              "<matplotlib.image.AxesImage at 0x202f17c95e0>"
            ]
          },
          "execution_count": 79,
          "metadata": {},
          "output_type": "execute_result"
        },
        {
          "data": {
            "image/png": "[encoded data removed]",
            "text/plain": [
              "<Figure size 432x288 with 1 Axes>"
            ]
          },
          "metadata": {
            "needs_background": "light"
          },
          "output_type": "display_data"
        }
      ],
      "source": [
        "my_fc = lambda x, y: ((np.exp(x))**2)+((np.exp(y))**2)\n",
        "my_fk_data = [[np.sqrt(x**2+y**2) for x in np.linspace(-10,10,10)] for y in np.linspace(-10,10,10)]\n",
        "plt.imshow(my_fk_data)"
      ]
    },
    {
      "cell_type": "code",
      "execution_count": 80,
      "metadata": {
        "colab": {
          "base_uri": "https://localhost:8080/",
          "height": 305
        },
        "id": "2SdL14CsEio8",
        "outputId": "fe94eaf5-6e9b-4c7b-9765-5e2e00399f6f"
      },
      "outputs": [
        {
          "data": {
            "text/plain": [
              "<matplotlib.image.AxesImage at 0x202f1841970>"
            ]
          },
          "execution_count": 80,
          "metadata": {},
          "output_type": "execute_result"
        },
        {
          "data": {
            "image/png": "[encoded data removed]",
            "text/plain": [
              "<Figure size 432x288 with 1 Axes>"
            ]
          },
          "metadata": {
            "needs_background": "light"
          },
          "output_type": "display_data"
        }
      ],
      "source": [
        "my_func = lambda x, y: np.exp(-np.abs(x-y)**2)\n",
        "\n",
        "# combine lambda with list comprehension\n",
        "fake_data = [[my_func(x,y) for x in np.linspace(-1,1)] for y in np.linspace(-1,1)]\n",
        "\n",
        "plt.imshow(fake_data)"
      ]
    },
    {
      "cell_type": "markdown",
      "metadata": {
        "id": "Oi-3qGFMFopy"
      },
      "source": [
        "____\n",
        "## `for` Loops: Use Cases"
      ]
    },
    {
      "cell_type": "markdown",
      "metadata": {
        "id": "MSuHLl_6FvPJ"
      },
      "source": [
        "If there is anything that you are already good at in Python, it is `for` loops. Let's just look at a classic example:\n",
        "\n"
      ]
    },
    {
      "cell_type": "code",
      "execution_count": 81,
      "metadata": {
        "colab": {
          "base_uri": "https://localhost:8080/"
        },
        "id": "QohiucIuGUZ0",
        "outputId": "78c0d702-6b6d-4b3b-d447-41f014477d1c"
      },
      "outputs": [
        {
          "name": "stdout",
          "output_type": "stream",
          "text": [
            "0\n",
            "1\n",
            "2\n",
            "3\n",
            "4\n",
            "5\n",
            "6\n",
            "7\n",
            "8\n",
            "9\n"
          ]
        }
      ],
      "source": [
        "for a in range(10):\n",
        "  print(a)"
      ]
    },
    {
      "cell_type": "markdown",
      "metadata": {
        "id": "qvIGQI8HJB14"
      },
      "source": [
        "Pretty simple. Now, let's look at some *Pythonic* ways to do `for` loops. \n",
        "\n",
        "1️⃣ The first case is this: you want to loop a certain number of times, but you won't ever use the variable of the loop. And, since the rest of your code has a lot of variables, you would rather not use up yet another variable you could use elsewhere. Here is the syntax for that:"
      ]
    },
    {
      "cell_type": "code",
      "execution_count": 82,
      "metadata": {
        "colab": {
          "base_uri": "https://localhost:8080/"
        },
        "id": "gPdbIAFeDAAe",
        "outputId": "1a6f67eb-974c-4ef2-c7cb-fa3210a573f0"
      },
      "outputs": [
        {
          "name": "stdout",
          "output_type": "stream",
          "text": [
            "do something....\n",
            "do something....\n",
            "do something....\n",
            "do something....\n",
            "do something....\n",
            "do something....\n",
            "do something....\n",
            "do something....\n",
            "do something....\n",
            "do something....\n"
          ]
        }
      ],
      "source": [
        "for _ in range(10):\n",
        "  print(\"do something....\")"
      ]
    },
    {
      "cell_type": "markdown",
      "metadata": {
        "id": "XFBWBoIYKXlT"
      },
      "source": [
        "In fact, the use of `_` in Python goes beyond its use in `for` loops. What it means is \"the most recent value\" or \"throw away variable\". So, you could also do this:"
      ]
    },
    {
      "cell_type": "code",
      "execution_count": 83,
      "metadata": {
        "colab": {
          "base_uri": "https://localhost:8080/"
        },
        "id": "gILluSDqKijo",
        "outputId": "b98ef4cf-444e-4879-c7b5-ac828b1b34de"
      },
      "outputs": [
        {
          "name": "stdout",
          "output_type": "stream",
          "text": [
            "do something.... 0\n",
            "do something.... 1\n",
            "do something.... 2\n",
            "do something.... 3\n",
            "do something.... 4\n",
            "do something.... 5\n",
            "do something.... 6\n",
            "do something.... 7\n",
            "do something.... 8\n",
            "do something.... 9\n"
          ]
        }
      ],
      "source": [
        "for _ in range(10):\n",
        "  print(\"do something....\", _)"
      ]
    },
    {
      "cell_type": "markdown",
      "metadata": {
        "id": "x7n_2KEhKl21"
      },
      "source": [
        "✍🏼 Discuss with your group what this is doing. Practice using this syntax. \n",
        "\n",
        "2️⃣ Next, let's suppose we want to loop through two lists (or, anything else) _at the same time_. How would we do that? For example, suppose we have:"
      ]
    },
    {
      "cell_type": "markdown",
      "metadata": {},
      "source": [
        "*This command attach the ordinal of each run at the end of each printed sentence.*"
      ]
    },
    {
      "cell_type": "code",
      "execution_count": 84,
      "metadata": {
        "colab": {
          "base_uri": "https://localhost:8080/"
        },
        "id": "Iul2ycBZLUWX",
        "outputId": "6dfea04c-d801-4ded-dd48-5cdb99a1b382"
      },
      "outputs": [
        {
          "name": "stdout",
          "output_type": "stream",
          "text": [
            "a\n",
            "b\n",
            "c\n"
          ]
        }
      ],
      "source": [
        "l1 = ['a', 'b', 'c']\n",
        "l2 = ['x', 'y', 'z']\n",
        "\n",
        "for x in l1:\n",
        "  print(x)\n",
        "  # how do I also loop through l2 at the same time???"
      ]
    },
    {
      "cell_type": "markdown",
      "metadata": {
        "id": "NJ7XWwN0LnA3"
      },
      "source": [
        "We want to loop through `l1` and `l2` together. One Pythonic way to do this is:"
      ]
    },
    {
      "cell_type": "code",
      "execution_count": 85,
      "metadata": {
        "colab": {
          "base_uri": "https://localhost:8080/"
        },
        "id": "PLxkCeA_LvB6",
        "outputId": "f0b656d3-500b-4719-e41b-1d1925397ed6"
      },
      "outputs": [
        {
          "name": "stdout",
          "output_type": "stream",
          "text": [
            "a x\n",
            "b y\n",
            "c z\n"
          ]
        }
      ],
      "source": [
        "for x1, x2 in zip(l1,l2):\n",
        "  print(x1, x2)"
      ]
    },
    {
      "cell_type": "markdown",
      "metadata": {
        "id": "Nni2chFIMA7y"
      },
      "source": [
        "✍🏼 Try this yourself. Create two _arrays_ with real numbers, loop through both arrays, `print` both numbers, their sum and their difference. \n",
        "\n",
        "Try this for 5 lists: does it work? "
      ]
    },
    {
      "cell_type": "code",
      "execution_count": 86,
      "metadata": {},
      "outputs": [
        {
          "name": "stdout",
          "output_type": "stream",
          "text": [
            "9 2 11 7\n",
            "5 6 11 -1\n",
            "3 8 11 -5\n",
            "8 1 9 7\n",
            "1 3 4 -2\n",
            "1 6 7 -5\n",
            "4 11 15 -7\n",
            "1 7 8 -6\n",
            "9 10 19 -1\n",
            "4 11 15 -7\n"
          ]
        },
        {
          "name": "stderr",
          "output_type": "stream",
          "text": [
            "C:\\Users\\NamelessVirtuoso\\AppData\\Local\\Temp\\ipykernel_12248\\1624136377.py:1: DeprecationWarning: This function is deprecated. Please call randint(0, 10 + 1) instead\n",
            "  a1 = np.random.random_integers(0,10,10)\n",
            "C:\\Users\\NamelessVirtuoso\\AppData\\Local\\Temp\\ipykernel_12248\\1624136377.py:2: DeprecationWarning: This function is deprecated. Please call randint(1, 11 + 1) instead\n",
            "  a2 = np.random.random_integers(1,11,10)\n"
          ]
        }
      ],
      "source": [
        "a1 = np.random.random_integers(0,10,10)\n",
        "a2 = np.random.random_integers(1,11,10)\n",
        "\n",
        "for x1, x2 in zip(a1,a2):\n",
        "  print(x1, x2,x1+x2,x1-x2)"
      ]
    },
    {
      "cell_type": "code",
      "execution_count": 87,
      "metadata": {},
      "outputs": [
        {
          "name": "stdout",
          "output_type": "stream",
          "text": [
            "0 1 2 3 4\n",
            "1 2 3 4 5\n",
            "2 3 4 5 6\n",
            "3 4 5 6 7\n",
            "4 5 6 7 8\n"
          ]
        }
      ],
      "source": [
        "\n",
        "a1 = list(range(0,5))\n",
        "a2 = list(range(1,6))\n",
        "a3 = list(range(2,7))\n",
        "a4 = list(range(3,8))\n",
        "a5 = list(range(4,9))\n",
        "\n",
        "for x1, x2, x3, x4, x5 in zip(a1,a2,a3,a4,a5):\n",
        "  print(x1, x2, x3, x4, x5)"
      ]
    },
    {
      "cell_type": "markdown",
      "metadata": {},
      "source": [
        "😄*We can see it works on 5 list too.*"
      ]
    },
    {
      "cell_type": "markdown",
      "metadata": {
        "id": "XuGVBUnTMVvB"
      },
      "source": [
        "3️⃣ Finally, there are cases where want to loop through the values of the list, but we also want to know _where_ in the list it is. \n",
        "\n",
        "✍🏼 Write a code that loops through x and prints both x and the value of y in the _next_ element. That is, print `x[i]` and `y[i+1]` when:"
      ]
    },
    {
      "cell_type": "code",
      "execution_count": 88,
      "metadata": {
        "colab": {
          "base_uri": "https://localhost:8080/"
        },
        "id": "vD85NvUjM0Wp",
        "outputId": "91e9de8c-bc06-4a84-8899-09cd3fa0df1a"
      },
      "outputs": [
        {
          "name": "stdout",
          "output_type": "stream",
          "text": [
            "(0, 1)\n",
            "(1, 2)\n",
            "(2, 3)\n",
            "(3, 4)\n",
            "(4, 5)\n",
            "(5, 6)\n",
            "(6, 7)\n",
            "(7, 8)\n",
            "(8, 9)\n",
            "(9, 10)\n"
          ]
        }
      ],
      "source": [
        "# fix this code\n",
        "\n",
        "x = range(10)\n",
        "y = range(11)\n",
        "\n",
        "for value in zip(x,np.delete(y,0)):\n",
        "  print(value)"
      ]
    },
    {
      "cell_type": "code",
      "execution_count": 89,
      "metadata": {},
      "outputs": [
        {
          "name": "stdout",
          "output_type": "stream",
          "text": [
            "0 1\n",
            "1 2\n",
            "2 3\n",
            "3 4\n",
            "4 5\n",
            "5 6\n",
            "6 7\n",
            "7 8\n",
            "8 9\n",
            "9 10\n"
          ]
        }
      ],
      "source": [
        "#Or this one, which is my teammate's code\n",
        "x = range(10)\n",
        "y = range(11)\n",
        "y = list(y)\n",
        "for x_val in x:\n",
        "    print(x_val, y[x_val+1])"
      ]
    },
    {
      "cell_type": "markdown",
      "metadata": {
        "id": "kIXe8MvCNOP9"
      },
      "source": [
        "One way to handle this use case is with `enumerate`, which works like this:"
      ]
    },
    {
      "cell_type": "code",
      "execution_count": 90,
      "metadata": {
        "colab": {
          "base_uri": "https://localhost:8080/"
        },
        "id": "iloJCiWRNTek",
        "outputId": "63e0e1c2-efb2-4c03-e33e-b369d4a0fc27"
      },
      "outputs": [
        {
          "name": "stdout",
          "output_type": "stream",
          "text": [
            "The index is 0 and the value is The\n",
            "The index is 1 and the value is quick\n",
            "The index is 2 and the value is brown\n",
            "The index is 3 and the value is fox\n",
            "The index is 4 and the value is jumps\n",
            "The index is 5 and the value is over\n",
            "The index is 6 and the value is the\n",
            "The index is 7 and the value is lazy\n",
            "The index is 8 and the value is dog\n"
          ]
        }
      ],
      "source": [
        "a = \"The quick brown fox jumps over the lazy dog\".split()\n",
        "\n",
        "for index, value in enumerate(a):\n",
        "  print(f\"The index is {index} and the value is {value}\")"
      ]
    },
    {
      "cell_type": "markdown",
      "metadata": {
        "id": "Oy78uWD8NtvD"
      },
      "source": [
        "Talk through this code with your group until you completely understand it. \n",
        "\n",
        "Use `enumerate` to solve the problem above with `x` and `y`."
      ]
    },
    {
      "cell_type": "code",
      "execution_count": 91,
      "metadata": {},
      "outputs": [
        {
          "name": "stdout",
          "output_type": "stream",
          "text": [
            "The index is 1 value is 0\n",
            "The index is 2 value is 1\n",
            "The index is 3 value is 2\n",
            "The index is 4 value is 3\n",
            "The index is 5 value is 4\n",
            "The index is 6 value is 5\n",
            "The index is 7 value is 6\n",
            "The index is 8 value is 7\n",
            "The index is 9 value is 8\n",
            "The index is 10 value is 9\n"
          ]
        }
      ],
      "source": [
        "x = range(10)\n",
        "y = range(11)\n",
        "\n",
        "for index,val in enumerate(x):\n",
        "  print(\"The index is\", index+1, \"value is\" ,val)"
      ]
    },
    {
      "cell_type": "markdown",
      "metadata": {
        "id": "rlNLXE6MN8it"
      },
      "source": [
        "____\n",
        "Congrats, you now know three new ways -- `_`, `zip` and `enumerate` -- to use `for` loops in a Pythonic way! \n",
        "___\n",
        "\n",
        "Be sure to include all of the names at the top and submit this to D2L. "
      ]
    },
    {
      "cell_type": "markdown",
      "metadata": {
        "id": "8fLKUJt8vi8Z"
      },
      "source": [
        "____\n",
        "\n",
        "One final thought.....\n",
        "\n",
        "One of the very best ways to learn coding is to `print` everything. It's almost no work and it gives you a window into what is happening. If you are confused about any of the code above, put a `print` statement literally on every other line and `print` the variables as they are changing. (There are more complicated ways to do this with a debugger, but using `print` is nearly no effort at all.) \n",
        "\n",
        "When students ask for help with their code, nearly always the first thing I do is add `print` statements everywhere so that I can \"see\" what their code is doing. You might as well start to do that yourself. \n",
        "\n",
        "Thanks for sticking with me.... Given how important print statements are, I recommend [reading this](https://realpython.com/python-f-strings/). There might be some syntax I used above in the `print` statements that you are not familiar with. Some of these nice features -- such as f-strings -- are relatively new to Python, so you may not be aware of them yet.\n"
      ]
    },
    {
      "cell_type": "code",
      "execution_count": 92,
      "metadata": {
        "colab": {
          "base_uri": "https://localhost:8080/",
          "height": 57
        },
        "id": "D5PLISktwggv",
        "outputId": "4c11bf8d-3342-4f3a-f2bd-96d7c104d086"
      },
      "outputs": [
        {
          "data": {
            "text/plain": [
              "'THANK you!'"
            ]
          },
          "execution_count": 92,
          "metadata": {},
          "output_type": "execute_result"
        }
      ],
      "source": [
        "f\"{'thank'.upper()} you!\""
      ]
    }
  ],
  "metadata": {
    "colab": {
      "collapsed_sections": [],
      "provenance": []
    },
    "kernelspec": {
      "display_name": "Python 3.9.12 ('base')",
      "language": "python",
      "name": "python3"
    },
    "language_info": {
      "codemirror_mode": {
        "name": "ipython",
        "version": 3
      },
      "file_extension": ".py",
      "mimetype": "text/x-python",
      "name": "python",
      "nbconvert_exporter": "python",
      "pygments_lexer": "ipython3",
      "version": "3.9.12"
    },
    "vscode": {
      "interpreter": {
        "hash": "d7347b7e29e8c6e1f51d602afd4e21b7b705c694c3d69fc778f49b64deb486e7"
      }
    }
  },
  "nbformat": 4,
  "nbformat_minor": 0
}
